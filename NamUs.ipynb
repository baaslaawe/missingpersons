{
 "metadata": {
  "name": ""
 },
 "nbformat": 3,
 "nbformat_minor": 0,
 "worksheets": [
  {
   "cells": [
    {
     "cell_type": "heading",
     "level": 1,
     "metadata": {},
     "source": [
      "Extracting Data from NamUs"
     ]
    },
    {
     "cell_type": "markdown",
     "metadata": {},
     "source": [
      "NamUs (https://www.findthemissing.org/en) is the National Missing and Unidentified Persons System funded by the U.S. Department of Justice. NamUs does not provide an API, but does provide a searchable interface. \n",
      "\n",
      "In this notebook, I want to show how to retrieve and store missing persons data from NamUs using Selenium and store it as JSON. "
     ]
    },
    {
     "cell_type": "code",
     "collapsed": false,
     "input": [
      "import us\n",
      "import time\n",
      "import json\n",
      "from selenium.webdriver.common.by import By\n",
      "import browsers"
     ],
     "language": "python",
     "metadata": {},
     "outputs": [],
     "prompt_number": 61
    },
    {
     "cell_type": "markdown",
     "metadata": {},
     "source": [
      "Try to search for all missing persons in Alabama."
     ]
    },
    {
     "cell_type": "code",
     "collapsed": false,
     "input": [
      "browser = browsers.Firefox()\n",
      "browser.get(\"https://www.findthemissing.org/en\")\n",
      "state = \"alabama\"\n",
      "elem = browser.wait_until_clickable(\"search_Circumstances.StateLKA\", timeout=60)"
     ],
     "language": "python",
     "metadata": {},
     "outputs": [],
     "prompt_number": 62
    },
    {
     "cell_type": "code",
     "collapsed": false,
     "input": [
      "browser.select_option(elem, state)\n",
      "submit_btn = browser.find_element_by_name(\"commit\")\n",
      "submit_btn.click()\n",
      "#In Ubuntu, I needed an extra click, but Windows I didn't.\n",
      "#submit_btn.click()"
     ],
     "language": "python",
     "metadata": {},
     "outputs": [],
     "prompt_number": 63
    },
    {
     "cell_type": "markdown",
     "metadata": {},
     "source": [
      "How many total cases did we find in Alabama?"
     ]
    },
    {
     "cell_type": "code",
     "collapsed": false,
     "input": [
      "int(browser.wait_until_visible(\"search_cases_found_count\", timeout=60).text)"
     ],
     "language": "python",
     "metadata": {},
     "outputs": [
      {
       "metadata": {},
       "output_type": "pyout",
       "prompt_number": 64,
       "text": [
        "142"
       ]
      }
     ],
     "prompt_number": 64
    },
    {
     "cell_type": "markdown",
     "metadata": {},
     "source": [
      "Instead of searching through 15 pages of results with about 10 cases per page. It would make more sense to display 100 cases on a page."
     ]
    },
    {
     "cell_type": "code",
     "collapsed": false,
     "input": [
      "elem = browser.wait_until_clickable(\"select.selbox\", by=By.CSS_SELECTOR, timeout=120)\n",
      "browser.select_option(elem, str(100))"
     ],
     "language": "python",
     "metadata": {},
     "outputs": [],
     "prompt_number": 65
    },
    {
     "cell_type": "markdown",
     "metadata": {},
     "source": [
      "Since we cannot really tell if the table has loaded correctly, we should write a function to keep checking if the rows have increased to 100."
     ]
    },
    {
     "cell_type": "code",
     "collapsed": false,
     "input": [
      "def wait_for_table_to_load(table, rows, timeout=10):\n",
      "\tindex = 0\n",
      "\twhile index != timeout:\n",
      "\t\tif len(table.find_elements_by_tag_name(\"tr\")) == rows + 1:\n",
      "\t\t\tbreak\n",
      "\t\ttime.sleep(1)\n",
      "\t\tindex += 1"
     ],
     "language": "python",
     "metadata": {},
     "outputs": [],
     "prompt_number": 66
    },
    {
     "cell_type": "code",
     "collapsed": false,
     "input": [
      "table = browser.wait_until_visible(\"list\")\n",
      "wait_for_table_to_load(table, 100, timeout=30)"
     ],
     "language": "python",
     "metadata": {},
     "outputs": [],
     "prompt_number": 67
    },
    {
     "cell_type": "markdown",
     "metadata": {},
     "source": [
      "Then we need a function to extract the data into lists of dicts that can be converted to JSON."
     ]
    },
    {
     "cell_type": "code",
     "collapsed": false,
     "input": [
      "def parse_results(table, timeout=10):\n",
      "    rows = table.find_elements_by_tag_name(\"tr\")\n",
      "    headers = [\"mp\", \"name\", \"date_last_seen\", \"location\", \"sex\", \"race\", \"age\"]\n",
      "    tbl = []\n",
      "    for (row_num, row) in enumerate(rows[1:]):\n",
      "        cols = row.find_elements_by_tag_name(\"td\")\n",
      "        dct = {}\n",
      "        for (col_num, col) in enumerate(cols):\n",
      "            dct[headers[col_num]] = col.text\n",
      "        tbl.append(dct)\n",
      "    return tbl"
     ],
     "language": "python",
     "metadata": {},
     "outputs": [],
     "prompt_number": 68
    },
    {
     "cell_type": "code",
     "collapsed": false,
     "input": [
      "cases = parse_results(table)\n",
      "print cases\n",
      "print len(cases)"
     ],
     "language": "python",
     "metadata": {},
     "outputs": [
      {
       "output_type": "stream",
       "stream": "stdout",
       "text": [
        "[{'name': u'Maddox, Michael A.', 'age': u'31', 'sex': u'Male', 'race': u'White', 'location': u'Cedar Bluff, AL', 'date_last_seen': u'02/16/2014', 'mp': u'23711'}, {'name': u'Chapman, Jefferson \".', 'age': u'25', 'sex': u'Male', 'race': u'White', 'location': u'Dothan, AL', 'date_last_seen': u'12/18/2013', 'mp': u'23335'}, {'name': u'Bagley, Patrick', 'age': u'60', 'sex': u'Male', 'race': u'White', 'location': u'Salem, AL', 'date_last_seen': u'05/23/2013', 'mp': u'21001'}, {'name': u'Horne, Tony', 'age': u'42', 'sex': u'Male', 'race': u'Black/African American', 'location': u'BIRMINGHAM, AL', 'date_last_seen': u'11/23/2012', 'mp': u'22988'}, {'name': u'Wallace, Lisa M.', 'age': u'35', 'sex': u'Female', 'race': u'White', 'location': u'Eufaula, AL', 'date_last_seen': u'10/27/2012', 'mp': u'18851'}, {'name': u'Ford, Garland T.', 'age': u'77', 'sex': u'Male', 'race': u'White', 'location': u'Wilmer, AL', 'date_last_seen': u'09/01/2012', 'mp': u'19454'}, {'name': u'Andrews, Jessie L.', 'age': u'46', 'sex': u'Male', 'race': u'Black/African American', 'location': u'Mobile, AL', 'date_last_seen': u'08/31/2012', 'mp': u'17625'}, {'name': u'Wallace, Abrihet P.', 'age': u'15', 'sex': u'Female', 'race': u'Black/African American', 'location': u'Birmingham, AL', 'date_last_seen': u'07/04/2012', 'mp': u'18833'}, {'name': u'Robinson, Brittany S.', 'age': u'14', 'sex': u'Female', 'race': u'Black/African American', 'location': u'Mobile, AL', 'date_last_seen': u'06/14/2012', 'mp': u'18058'}, {'name': u'Wood, Brittney N.', 'age': u'19', 'sex': u'Female', 'race': u'White', 'location': u'Mobile, AL', 'date_last_seen': u'05/31/2012', 'mp': u'17200'}, {'name': u'Schraeder, Robert L.', 'age': u'49', 'sex': u'Male', 'race': u'White', 'location': u'Columbiana, AL', 'date_last_seen': u'03/11/2012', 'mp': u'18166'}, {'name': u'Hill, Christian R.', 'age': u'24', 'sex': u'Male', 'race': u'Black/African American', 'location': u'Birmingham, AL', 'date_last_seen': u'10/16/2011', 'mp': u'24086'}, {'name': u'Allor, David C.', 'age': u'56', 'sex': u'Male', 'race': u'White', 'location': u'Enterprise, AL', 'date_last_seen': u'10/05/2011', 'mp': u'19949'}, {'name': u'Peoples, Shanna G.', 'age': u'19', 'sex': u'Female', 'race': u'White', 'location': u'Geneva, AL', 'date_last_seen': u'09/08/2011', 'mp': u'12539'}, {'name': u'Holloman, Jeffrey L.', 'age': u'25', 'sex': u'Male', 'race': u'White', 'location': u'Wilmer, AL', 'date_last_seen': u'08/06/2011', 'mp': u'19069'}, {'name': u'Lowe, James L.', 'age': u'61', 'sex': u'Male', 'race': u'White', 'location': u'Warrior, AL', 'date_last_seen': u'08/05/2011', 'mp': u'15023'}, {'name': u'Carrithers, Mary K.', 'age': u'32', 'sex': u'Female', 'race': u'White', 'location': u'Owens Cross Roads , AL', 'date_last_seen': u'04/08/2011', 'mp': u'12901'}, {'name': u'Ochoa, Eliud M.', 'age': u'13', 'sex': u'Female', 'race': u'Other', 'location': u'Bessemer, AL', 'date_last_seen': u'03/20/2011', 'mp': u'12112'}, {'name': u'Hardin, Robert M.', 'age': u'26', 'sex': u'Male', 'race': u'White', 'location': u'Montevallo, AL', 'date_last_seen': u'03/07/2011', 'mp': u'18099'}, {'name': u'Rogers, Clara', 'age': u'73', 'sex': u'Female', 'race': u'White', 'location': u'Munford, AL', 'date_last_seen': u'07/10/2010', 'mp': u'8172'}, {'name': u'Benjamin, Tarasha', 'age': u'17', 'sex': u'Female', 'race': u'Black/African American', 'location': u'Selma, AL', 'date_last_seen': u'06/26/2010', 'mp': u'8618'}, {'name': u'Cochran , Raymond', 'age': u'71', 'sex': u'Male', 'race': u'Black/African American', 'location': u'Ensley, AL', 'date_last_seen': u'06/17/2010', 'mp': u'8448'}, {'name': u'Medrano, Adan E.', 'age': u'28', 'sex': u'Male', 'race': u'White', 'location': u'Huntsville, AL', 'date_last_seen': u'04/09/2010', 'mp': u'8225'}, {'name': u'Dobbs, Anita M.', 'age': u'46', 'sex': u'Female', 'race': u'Black/African American', 'location': u'Birmingham, AL', 'date_last_seen': u'01/24/2010', 'mp': u'7359'}, {'name': u'Walker, Jeremy C.', 'age': u'31', 'sex': u'Male', 'race': u'White', 'location': u'Prattville, AL', 'date_last_seen': u'01/15/2010', 'mp': u'8522'}, {'name': u'Franklin , Tabitha L.', 'age': u'28', 'sex': u'Female', 'race': u'White', 'location': u'Hueytown, AL', 'date_last_seen': u'08/13/2009', 'mp': u'4247'}, {'name': u'Smith, Corey N.', 'age': u'27', 'sex': u'Male', 'race': u'White', 'location': u'Jasper, AL', 'date_last_seen': u'06/18/2009', 'mp': u'15025'}, {'name': u'Howard, Kelley L.', 'age': u'41', 'sex': u'Female', 'race': u'White', 'location': u'Riverside, AL', 'date_last_seen': u'06/02/2009', 'mp': u'4755'}, {'name': u'Baker , Willie E.', 'age': u'23', 'sex': u'Male', 'race': u'Black/African American', 'location': u'Prichard, AL', 'date_last_seen': u'04/30/2009', 'mp': u'7381'}, {'name': u'Rose, Warner J.', 'age': u'29', 'sex': u'Male', 'race': u'Black/African American', 'location': u'Selma, AL', 'date_last_seen': u'04/08/2009', 'mp': u'7380'}, {'name': u'Sanchez , Victor C.', 'age': u'25', 'sex': u'Male', 'race': u'Other', 'location': u'Abbeville, AL', 'date_last_seen': u'03/23/2009', 'mp': u'5014'}, {'name': u'Adkins, Layla D.', 'age': u'32', 'sex': u'Female', 'race': u'White', 'location': u'Leeds, AL', 'date_last_seen': u'11/13/2008', 'mp': u'5211'}, {'name': u'Kersh, Nadia K.', 'age': u'23', 'sex': u'Female', 'race': u'White', 'location': u'Homewood, AL', 'date_last_seen': u'11/03/2008', 'mp': u'10499'}, {'name': u'Ellis, Shannon', 'age': u'31', 'sex': u'Female', 'race': u'White', 'location': u'Birmingham, AL', 'date_last_seen': u'09/24/2008', 'mp': u'1325'}, {'name': u'Mendoza, Ana', 'age': u'15', 'sex': u'Female', 'race': u'Other', 'location': u'Fairfield, AL', 'date_last_seen': u'08/09/2008', 'mp': u'6399'}, {'name': u'Powers, Jennifer F.', 'age': u'29', 'sex': u'Female', 'race': u'White', 'location': u'Harvest, AL', 'date_last_seen': u'07/12/2008', 'mp': u'5749'}, {'name': u'Barrentine, Michael R.', 'age': u'41', 'sex': u'Male', 'race': u'White', 'location': u'Montgomery, AL', 'date_last_seen': u'05/05/2008', 'mp': u'8060'}, {'name': u'Biggers, Pamela P.', 'age': u'56', 'sex': u'Female', 'race': u'White', 'location': u'Hueytown, AL', 'date_last_seen': u'01/27/2008', 'mp': u'2946'}, {'name': u'Williams, Doretha', 'age': u'51', 'sex': u'Female', 'race': u'Black/African American', 'location': u'Mobile, AL', 'date_last_seen': u'11/27/2007', 'mp': u'1313'}, {'name': u'Scarbrough, Bryan', 'age': u'40', 'sex': u'Male', 'race': u'White', 'location': u'Tuscaloosa, AL', 'date_last_seen': u'11/02/2007', 'mp': u'1314'}, {'name': u'Boyette, Michael S.', 'age': u'28', 'sex': u'Male', 'race': u'White', 'location': u'Grand Bay, AL', 'date_last_seen': u'10/17/2007', 'mp': u'5208'}, {'name': u'Trimble, Richard E.', 'age': u'42', 'sex': u'Male', 'race': u'Black/African American', 'location': u'Wetumpka, AL', 'date_last_seen': u'10/08/2007', 'mp': u'1305'}, {'name': u'Green, Lisa A.', 'age': u'44', 'sex': u'Female', 'race': u'White', 'location': u'Tuscalossa, AL', 'date_last_seen': u'07/27/2007', 'mp': u'7287'}, {'name': u'Billingsley, Norris', 'age': u'36', 'sex': u'Male', 'race': u'Black/African American', 'location': u'Salem, AL', 'date_last_seen': u'07/18/2007', 'mp': u'5209'}, {'name': u'Burney, David M.', 'age': u'46', 'sex': u'Male', 'race': u'White', 'location': u'Battle Ground, AL', 'date_last_seen': u'06/29/2007', 'mp': u'15028'}, {'name': u'Culwell, Haleigh B.', 'age': u'11', 'sex': u'Female', 'race': u'White', 'location': u'Section, AL', 'date_last_seen': u'06/21/2007', 'mp': u'4599'}, {'name': u'Whitton, Kimberly M.', 'age': u'37', 'sex': u'Female', 'race': u'White', 'location': u'Scottsboro, AL', 'date_last_seen': u'06/21/2007', 'mp': u'4598'}, {'name': u'Dobbins, Juginda D.', 'age': u'26', 'sex': u'Female', 'race': u'Black/African American', 'location': u'Decatur, AL', 'date_last_seen': u'12/01/2006', 'mp': u'14882'}, {'name': u'Mack, Aubrina N.', 'age': u'21', 'sex': u'Female', 'race': u'Black/African American', 'location': u'Montgomery, AL', 'date_last_seen': u'08/15/2006', 'mp': u'4766'}, {'name': u'Mcmillian, Tonya T.', 'age': u'40', 'sex': u'Female', 'race': u'Black/African American', 'location': u'mobile, AL', 'date_last_seen': u'08/01/2006', 'mp': u'5711'}, {'name': u'Franklin, Gail v.', 'age': u'46', 'sex': u'Female', 'race': u'Black/African American', 'location': u'Prichard, AL', 'date_last_seen': u'06/19/2006', 'mp': u'5759'}, {'name': u'Brown, Heather L.', 'age': u'28', 'sex': u'Female', 'race': u'White', 'location': u'Dothan, AL', 'date_last_seen': u'06/18/2006', 'mp': u'9016'}, {'name': u'Slesinski, Lori A.', 'age': u'24', 'sex': u'Female', 'race': u'White', 'location': u'Aururn, AL', 'date_last_seen': u'06/10/2006', 'mp': u'4656'}, {'name': u'Breedlove, Anthony T.', 'age': u'31', 'sex': u'Male', 'race': u'Black/African American', 'location': u'Marion, AL', 'date_last_seen': u'04/18/2006', 'mp': u'4653'}, {'name': u'Harris, Ronnie B.', 'age': u'29', 'sex': u'Male', 'race': u'Black/African American', 'location': u'Selma, AL', 'date_last_seen': u'04/05/2006', 'mp': u'4654'}, {'name': u'Milton, Sherry A.', 'age': u'26', 'sex': u'Female', 'race': u'White', 'location': u'unknown, AL', 'date_last_seen': u'08/15/2005', 'mp': u'4166'}, {'name': u'Jones, Jason', 'age': u'27', 'sex': u'Male', 'race': u'Black/African American', 'location': u'Birmingham, AL', 'date_last_seen': u'08/08/2005', 'mp': u'5210'}, {'name': u'Blevins, Eric D.', 'age': u'24', 'sex': u'Male', 'race': u'Black/African American', 'location': u'Selma, AL', 'date_last_seen': u'07/29/2005', 'mp': u'4650'}, {'name': u'Brown, Deandre N.', 'age': u'22', 'sex': u'Male', 'race': u'Black/African American', 'location': u'Jasper, AL', 'date_last_seen': u'07/29/2005', 'mp': u'4601'}, {'name': u'Lewis, Nancy', 'age': u'46', 'sex': u'Female', 'race': u'Black/African American', 'location': u'Birmingham, AL', 'date_last_seen': u'05/18/2005', 'mp': u'4649'}, {'name': u'Reynolds, Alonzo A.', 'age': u'46', 'sex': u'Male', 'race': u'Black/African American', 'location': u'Birmingham, AL', 'date_last_seen': u'03/31/2005', 'mp': u'4651'}, {'name': u'Goodson, Yu C.', 'age': u'57', 'sex': u'Female', 'race': u'Asian or Pacific Islander', 'location': u'Russellville, AL', 'date_last_seen': u'03/25/2005', 'mp': u'7286'}, {'name': u'Dill, Damian', 'age': u'20', 'sex': u'Male', 'race': u'Black/African American', 'location': u'Montgomery, AL', 'date_last_seen': u'02/15/2005', 'mp': u'4767'}, {'name': u'Dearing , Brenda N.', 'age': u'51', 'sex': u'Female', 'race': u'Black/African American', 'location': u'Mobile, AL', 'date_last_seen': u'12/15/2004', 'mp': u'4648'}, {'name': u'Cupido, Donna T.', 'age': u'45', 'sex': u'Female', 'race': u'White', 'location': u'Cherokee, AL', 'date_last_seen': u'10/21/2004', 'mp': u'7282'}, {'name': u'Gamble , Herman M.', 'age': u'25', 'sex': u'Male', 'race': u'White', 'location': u'Mccalla, AL', 'date_last_seen': u'06/16/2004', 'mp': u'4371'}, {'name': u'Green, Debra T.', 'age': u'51', 'sex': u'Female', 'race': u'White', 'location': u'Ft. Morgan, AL', 'date_last_seen': u'03/03/2004', 'mp': u'4306'}, {'name': u'Green, Jimmy L.', 'age': u'61', 'sex': u'Male', 'race': u'Black/African American', 'location': u'Montgomery, AL', 'date_last_seen': u'01/11/2004', 'mp': u'2836'}, {'name': u'Riley, LaQuanta N.', 'age': u'20', 'sex': u'Female', 'race': u'Black/African American', 'location': u'Montgomery, AL', 'date_last_seen': u'12/07/2003', 'mp': u'5277'}, {'name': u'Rigsby, Donna R.', 'age': u'20', 'sex': u'Female', 'race': u'White', 'location': u'Sylacauga, AL', 'date_last_seen': u'06/28/2003', 'mp': u'2632'}, {'name': u'Scobie, Marcia L.', 'age': u'42', 'sex': u'Female', 'race': u'White', 'location': u'Enterprise, AL', 'date_last_seen': u'03/29/2003', 'mp': u'4774'}, {'name': u'McGhee, Melinda', 'age': u'31', 'sex': u'Female', 'race': u'White', 'location': u'Atmore, AL', 'date_last_seen': u'03/24/2003', 'mp': u'5022'}, {'name': u'Hernandez, Julian T.', 'age': u'5', 'sex': u'Male', 'race': u'White', 'location': u'Birmingham, AL', 'date_last_seen': u'08/28/2002', 'mp': u'7373'}, {'name': u'Carroll, Charles M.', 'age': u'49', 'sex': u'Male', 'race': u'White', 'location': u'Huntsville, AL', 'date_last_seen': u'07/01/2002', 'mp': u'7372'}, {'name': u'Brown, Tamborah', 'age': u'22', 'sex': u'Male', 'race': u'Black/African American', 'location': u'Mobile, AL', 'date_last_seen': u'02/15/2002', 'mp': u'5734'}, {'name': u'Archie, Robert', 'age': u'29', 'sex': u'Male', 'race': u'Black/African American', 'location': u'Jemison, AL', 'date_last_seen': u'12/19/2001', 'mp': u'4495'}, {'name': u'Beshears, Chin Suk K.', 'age': u'44', 'sex': u'Female', 'race': u'Asian or Pacific Islander', 'location': u'Homewood, AL', 'date_last_seen': u'12/16/2001', 'mp': u'2336'}, {'name': u'Whitfield, Randall H.', 'age': u'40', 'sex': u'Male', 'race': u'White', 'location': u'Haleyville, AL', 'date_last_seen': u'12/08/2001', 'mp': u'7446'}, {'name': u'Sheehan, Rilla K.', 'age': u'44', 'sex': u'Female', 'race': u'White', 'location': u'Robertsdale, AL', 'date_last_seen': u'12/08/2001', 'mp': u'2337'}, {'name': u'Stark, Willis', 'age': u'85', 'sex': u'Male', 'race': u'White', 'location': u'Tuscaloosa, AL', 'date_last_seen': u'11/14/2001', 'mp': u'4768'}, {'name': u'Luxford, Janet J.', 'age': u'41', 'sex': u'Female', 'race': u'White', 'location': u'Bessemer, AL', 'date_last_seen': u'09/01/2001', 'mp': u'13255'}, {'name': u'Sims, Ruth', 'age': u'74', 'sex': u'Female', 'race': u'Black/African American', 'location': u'Livingston, AL', 'date_last_seen': u'06/27/2001', 'mp': u'7110'}, {'name': u'Chipman, Tammie J.', 'age': u'39', 'sex': u'Female', 'race': u'White', 'location': u'Tuskegee, AL', 'date_last_seen': u'03/02/2001', 'mp': u'2334'}, {'name': u'Pearson, Stephen H.', 'age': u'53', 'sex': u'Male', 'race': u'White', 'location': u'Grand Bay, AL', 'date_last_seen': u'12/27/2000', 'mp': u'5021'}, {'name': u'Massey, Travis D.', 'age': u'20', 'sex': u'Male', 'race': u'Black/African American', 'location': u'Huntsville, AL', 'date_last_seen': u'11/30/2000', 'mp': u'4772'}, {'name': u'Pierce , Lisa A.', 'age': u'27', 'sex': u'Female', 'race': u'White', 'location': u'Mobile, AL', 'date_last_seen': u'11/06/2000', 'mp': u'4490'}, {'name': u'Hughes, Shelia D.', 'age': u'29', 'sex': u'Female', 'race': u'Black/African American', 'location': u'Pickensville, AL', 'date_last_seen': u'09/02/2000', 'mp': u'4769'}, {'name': u'Flippo, Warren', 'age': u'44', 'sex': u'Male', 'race': u'White', 'location': u'Huntsville, AL', 'date_last_seen': u'06/24/2000', 'mp': u'2339'}, {'name': u'Sparks, Barbara', 'age': u'59', 'sex': u'Female', 'race': u'White', 'location': u'Brimingham, AL', 'date_last_seen': u'06/01/2000', 'mp': u'2343'}, {'name': u'Wilding, Judie A.', 'age': u'55', 'sex': u'Female', 'race': u'White', 'location': u'Montgomery, AL', 'date_last_seen': u'04/01/2000', 'mp': u'1321'}, {'name': u'Wood, Charles R.', 'age': u'21', 'sex': u'Male', 'race': u'White', 'location': u'Decantur, AL', 'date_last_seen': u'04/01/2000', 'mp': u'2342'}, {'name': u'Stowe , Lisa A.', 'age': u'29', 'sex': u'Female', 'race': u'White', 'location': u'centre, AL', 'date_last_seen': u'12/28/1999', 'mp': u'10566'}, {'name': u'Paul, Holly A.', 'age': u'35', 'sex': u'Female', 'race': u'White', 'location': u'Mobile, AL', 'date_last_seen': u'08/29/1999', 'mp': u'4916'}, {'name': u'Maples, Joseph M.', 'age': u'46', 'sex': u'Male', 'race': u'White', 'location': u'Birmingham, AL', 'date_last_seen': u'08/11/1999', 'mp': u'4794'}, {'name': u'Moneyham, Darrell', 'age': u'38', 'sex': u'Male', 'race': u'Black/African American', 'location': u'Birmingham, AL', 'date_last_seen': u'07/06/1999', 'mp': u'4787'}, {'name': u'Sargent, David B.', 'age': u'18', 'sex': u'Male', 'race': u'White', 'location': u'Guntersville, AL', 'date_last_seen': u'05/30/1999', 'mp': u'4773'}, {'name': u'Reynolds, James A.', 'age': u'28', 'sex': u'Male', 'race': u'Black/African American', 'location': u'Opp, AL', 'date_last_seen': u'05/08/1999', 'mp': u'2341'}, {'name': u'Wright, Fred', 'age': u'13', 'sex': u'Male', 'race': u'Black/African American', 'location': u'Tuskegee, AL', 'date_last_seen': u'12/06/1998', 'mp': u'2888'}, {'name': u'James, George E.', 'age': u'21', 'sex': u'Male', 'race': u'White', 'location': u'Millbrook, AL', 'date_last_seen': u'11/23/1998', 'mp': u'2511'}, {'name': u'Satterthwaite, Edwin J.', 'age': u'42', 'sex': u'Male', 'race': u'White', 'location': u'Mobile, AL', 'date_last_seen': u'11/07/1998', 'mp': u'4600'}]\n",
        "100\n"
       ]
      }
     ],
     "prompt_number": 69
    },
    {
     "cell_type": "markdown",
     "metadata": {},
     "source": [
      "Let's move on to the next page. Since there are only 142 cases total and 100 were displayed on the first page, the second page should only have 42 cases. "
     ]
    },
    {
     "cell_type": "code",
     "collapsed": false,
     "input": [
      "browser.find_element_by_id(\"next\").click()\n",
      "wait_for_table_to_load(table, 42, timeout=30)"
     ],
     "language": "python",
     "metadata": {},
     "outputs": [],
     "prompt_number": 70
    },
    {
     "cell_type": "code",
     "collapsed": false,
     "input": [
      "cases2 = parse_results(table)\n",
      "print cases2\n",
      "print len(cases2)"
     ],
     "language": "python",
     "metadata": {},
     "outputs": [
      {
       "output_type": "stream",
       "stream": "stdout",
       "text": [
        "[{'name': u'Hazelrig, Huey E.', 'age': u'31', 'sex': u'Male', 'race': u'White', 'location': u'Cleveland , AL', 'date_last_seen': u'11/03/1998', 'mp': u'4486'}, {'name': u'Fortson, Donald R.', 'age': u'52', 'sex': u'Male', 'race': u'White', 'location': u'Cleveland, AL', 'date_last_seen': u'11/03/1998', 'mp': u'4485'}, {'name': u'Arrington, Kimberly N.', 'age': u'16', 'sex': u'Female', 'race': u'Black/African American', 'location': u'Montgomery, AL', 'date_last_seen': u'10/30/1998', 'mp': u'3958'}, {'name': u'Ross, Elmer L.', 'age': u'77', 'sex': u'Male', 'race': u'White', 'location': u'Highland Home, AL', 'date_last_seen': u'10/26/1998', 'mp': u'2344'}, {'name': u'Garrard, Christy L.', 'age': u'24', 'sex': u'Female', 'race': u'White', 'location': u'Boaz, AL', 'date_last_seen': u'08/14/1998', 'mp': u'2360'}, {'name': u'Smith II, Bennie J.', 'age': u'35', 'sex': u'Male', 'race': u'White', 'location': u'Calera, AL', 'date_last_seen': u'05/31/1998', 'mp': u'4785'}, {'name': u'Kegley, Traci P.', 'age': u'41', 'sex': u'Female', 'race': u'White', 'location': u'Wetumpka, AL', 'date_last_seen': u'04/26/1998', 'mp': u'2328'}, {'name': u'Gordon, Michael S.', 'age': u'27', 'sex': u'Male', 'race': u'White', 'location': u'Mckenzie, AL', 'date_last_seen': u'03/06/1998', 'mp': u'2332'}, {'name': u'Slicker, Glenna K.', 'age': u'37', 'sex': u'Female', 'race': u'White', 'location': u'Cedar Bluff, AL', 'date_last_seen': u'02/13/1998', 'mp': u'10362'}, {'name': u'Pritchett, Debra D.', 'age': u'25', 'sex': u'Female', 'race': u'White', 'location': u'Mobile, AL', 'date_last_seen': u'01/31/1998', 'mp': u'2359'}, {'name': u'Steed, Karen D.', 'age': u'29', 'sex': u'Female', 'race': u'White', 'location': u'Piedmont, AL', 'date_last_seen': u'11/25/1997', 'mp': u'2349'}, {'name': u'Wabbington, Yuette', 'age': u'33', 'sex': u'Female', 'race': u'Black/African American', 'location': u'Birmingham, AL', 'date_last_seen': u'10/10/1997', 'mp': u'4915'}, {'name': u'Ramer, Kemberly L.', 'age': u'17', 'sex': u'Female', 'race': u'White', 'location': u'Opp, AL', 'date_last_seen': u'08/15/1997', 'mp': u'4025'}, {'name': u'Weems, Robert G.', 'age': u'29', 'sex': u'Male', 'race': u'White', 'location': u'Florence, AL', 'date_last_seen': u'06/05/1997', 'mp': u'2358'}, {'name': u'Hurst, Floyd R.', 'age': u'44', 'sex': u'Male', 'race': u'White', 'location': u'Oxford, AL', 'date_last_seen': u'01/26/1997', 'mp': u'2357'}, {'name': u'Bryan, Wayne D.', 'age': u'52', 'sex': u'Male', 'race': u'White', 'location': u'Enterprise, AL', 'date_last_seen': u'12/15/1995', 'mp': u'4784'}, {'name': u'Toole, James A.', 'age': u'73', 'sex': u'Male', 'race': u'White', 'location': u'Pansey, AL', 'date_last_seen': u'05/15/1995', 'mp': u'13159'}, {'name': u'Piper, Evelyn L.', 'age': u'54', 'sex': u'Female', 'race': u'White', 'location': u'phenix city, AL', 'date_last_seen': u'11/30/1994', 'mp': u'4996'}, {'name': u'Williams, Donnie M.', 'age': u'50', 'sex': u'Male', 'race': u'White', 'location': u'Cullman, AL', 'date_last_seen': u'08/09/1994', 'mp': u'2346'}, {'name': u'Wright, Michael A.', 'age': u'20', 'sex': u'Male', 'race': u'White', 'location': u'Saraland, AL', 'date_last_seen': u'06/24/1994', 'mp': u'2355'}, {'name': u'Morris Jr., Miles', 'age': u'80', 'sex': u'Male', 'race': u'Unsure', 'location': u'Sylacauga, AL', 'date_last_seen': u'06/07/1994', 'mp': u'8046'}, {'name': u'Mock, Peggy R.', 'age': u'37', 'sex': u'Female', 'race': u'White', 'location': u'Gadsen, AL', 'date_last_seen': u'12/25/1992', 'mp': u'2353'}, {'name': u'Consuegra, Edward S.', 'age': u'36', 'sex': u'Male', 'race': u'Other', 'location': u'Montgomery, AL', 'date_last_seen': u'12/03/1992', 'mp': u'4783'}, {'name': u'Cochran, Felicia', 'age': u'26', 'sex': u'Female', 'race': u'Black/African American', 'location': u'Pell City, AL', 'date_last_seen': u'07/11/1992', 'mp': u'2352'}, {'name': u'Davis, Anthony E.', 'age': u'19', 'sex': u'Male', 'race': u'Black/African American', 'location': u'Huntsville, AL', 'date_last_seen': u'01/10/1992', 'mp': u'4781'}, {'name': u'Lawson, Carrie', 'age': u'25', 'sex': u'Female', 'race': u'White', 'location': u'Jasper, AL', 'date_last_seen': u'09/11/1991', 'mp': u'4798'}, {'name': u'McFry, Jeffery S.', 'age': u'23', 'sex': u'Male', 'race': u'White', 'location': u'Anniston, AL', 'date_last_seen': u'09/05/1990', 'mp': u'4779'}, {'name': u'Burrows, James P.', 'age': u'24', 'sex': u'Male', 'race': u'White', 'location': u'Anniston, AL', 'date_last_seen': u'08/23/1990', 'mp': u'4778'}, {'name': u'Li, Li', 'age': u'32', 'sex': u'Female', 'race': u'Asian or Pacific Islander', 'location': u'Huntsville, AL', 'date_last_seen': u'08/18/1989', 'mp': u'22089'}, {'name': u'Ferguson, Rebecca', 'age': u'32', 'sex': u'Female', 'race': u'White', 'location': u'Jasper, AL', 'date_last_seen': u'09/16/1988', 'mp': u'7350'}, {'name': u'Green, Brenda K.', 'age': u'15', 'sex': u'Female', 'race': u'White', 'location': u'Brookwood, AL', 'date_last_seen': u'07/02/1988', 'mp': u'2351'}, {'name': u'Kucera, Derrick', 'age': u'23', 'sex': u'Male', 'race': u'White', 'location': u'Hillsboro, AL', 'date_last_seen': u'10/29/1986', 'mp': u'7351'}, {'name': u'Lackey, Jerry W.', 'age': u'36', 'sex': u'Male', 'race': u'White', 'location': u'Roebuck, AL', 'date_last_seen': u'07/29/1985', 'mp': u'4777'}, {'name': u'Rushton, Barbara K.', 'age': u'45', 'sex': u'Female', 'race': u'White', 'location': u'Birmingham, AL', 'date_last_seen': u'08/29/1984', 'mp': u'2686'}, {'name': u'Marler, Sherry L.', 'age': u'12', 'sex': u'Female', 'race': u'White', 'location': u'Greenville, AL', 'date_last_seen': u'06/06/1984', 'mp': u'2350'}, {'name': u'Burnett, Mary J.', 'age': u'16', 'sex': u'Female', 'race': u'White', 'location': u'Rockford, AL', 'date_last_seen': u'06/01/1984', 'mp': u'3974'}, {'name': u'Corley, Carla R.', 'age': u'14', 'sex': u'Female', 'race': u'White', 'location': u'Birmingham, AL', 'date_last_seen': u'08/12/1980', 'mp': u'2345'}, {'name': u'Lirette, Christopher N.', 'age': u'27', 'sex': u'Male', 'race': u'White', 'location': u'Brewton, AL', 'date_last_seen': u'08/19/1977', 'mp': u'4154'}, {'name': u'Dorsey, Ruth P.', 'age': u'69', 'sex': u'Female', 'race': u'White', 'location': u'Opelika, AL', 'date_last_seen': u'08/17/1974', 'mp': u'4796'}, {'name': u'Carter, Christina L.', 'age': u'3', 'sex': u'Female', 'race': u'White', 'location': u'Hueytown, AL', 'date_last_seen': u'09/17/1973', 'mp': u'2684'}, {'name': u'Barter, Daniel', 'age': u'4', 'sex': u'Male', 'race': u'White', 'location': u'Perdido Bay, AL', 'date_last_seen': u'06/18/1959', 'mp': u'2688'}, {'name': u'Payne, Samuel H.', 'age': u'60', 'sex': u'Male', 'race': u'White', 'location': u'Montgomery, AL', 'date_last_seen': u' ', 'mp': u'10953'}]\n",
        "42\n"
       ]
      }
     ],
     "prompt_number": 71
    },
    {
     "cell_type": "markdown",
     "metadata": {},
     "source": [
      "Merge the two arrays, convert to JSON and write to a file."
     ]
    },
    {
     "cell_type": "code",
     "collapsed": false,
     "input": [
      "all_cases = cases + cases2"
     ],
     "language": "python",
     "metadata": {},
     "outputs": [],
     "prompt_number": 72
    },
    {
     "cell_type": "code",
     "collapsed": false,
     "input": [
      "f = open(state + \".json\", \"w\")\n",
      "f.write(json.dumps(all_cases, sort_keys=True, indent=4, separators=(',', ': ')))\n",
      "f.close()"
     ],
     "language": "python",
     "metadata": {},
     "outputs": [],
     "prompt_number": 73
    },
    {
     "cell_type": "code",
     "collapsed": false,
     "input": [
      "browser.close"
     ],
     "language": "python",
     "metadata": {},
     "outputs": [
      {
       "metadata": {},
       "output_type": "pyout",
       "prompt_number": 74,
       "text": [
        "<bound method Firefox.close of <browsers.Firefox object at 0x22e4e90>>"
       ]
      }
     ],
     "prompt_number": 74
    }
   ],
   "metadata": {}
  }
 ]
}