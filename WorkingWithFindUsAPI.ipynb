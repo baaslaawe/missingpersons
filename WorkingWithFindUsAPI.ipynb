{
 "metadata": {
  "name": ""
 },
 "nbformat": 3,
 "nbformat_minor": 0,
 "worksheets": [
  {
   "cells": [
    {
     "cell_type": "code",
     "collapsed": false,
     "input": [
      "import json\n",
      "import requests\n",
      "import numpy as np\n",
      "from IPython.display import HTML\n",
      "from pandas import DataFrame, Series\n",
      "import matplotlib.pyplot as plt\n",
      "%matplotlib inline"
     ],
     "language": "python",
     "metadata": {},
     "outputs": [],
     "prompt_number": 33
    },
    {
     "cell_type": "heading",
     "level": 1,
     "metadata": {},
     "source": [
      "Working with Find Us Missing Persons API"
     ]
    },
    {
     "cell_type": "markdown",
     "metadata": {},
     "source": [
      "Missing persons are grouped by location. You can specify location by providing country, state, county and city information. How many people are missing in California?"
     ]
    },
    {
     "cell_type": "code",
     "collapsed": false,
     "input": [
      "response = requests.get(\"http://find-us.herokuapp.com/US/California\")\n",
      "persons = json.loads(response.text)\n",
      "print len(persons)"
     ],
     "language": "python",
     "metadata": {},
     "outputs": [
      {
       "output_type": "stream",
       "stream": "stdout",
       "text": [
        "1337\n"
       ]
      }
     ],
     "prompt_number": 34
    },
    {
     "cell_type": "markdown",
     "metadata": {},
     "source": [
      "What about in Alameda county?"
     ]
    },
    {
     "cell_type": "code",
     "collapsed": false,
     "input": [
      "response = requests.get(\"http://find-us.herokuapp.com/US/California/Alameda\")\n",
      "print len(json.loads(response.text))"
     ],
     "language": "python",
     "metadata": {},
     "outputs": [
      {
       "output_type": "stream",
       "stream": "stdout",
       "text": [
        "30\n"
       ]
      }
     ],
     "prompt_number": 35
    },
    {
     "cell_type": "markdown",
     "metadata": {},
     "source": [
      "What about the city of Berkeley?"
     ]
    },
    {
     "cell_type": "code",
     "collapsed": false,
     "input": [
      "response = requests.get(\"http://find-us.herokuapp.com/US/California/Alameda/Berkeley\")\n",
      "print len(json.loads(response.text))"
     ],
     "language": "python",
     "metadata": {},
     "outputs": [
      {
       "output_type": "stream",
       "stream": "stdout",
       "text": [
        "4\n"
       ]
      }
     ],
     "prompt_number": 36
    },
    {
     "cell_type": "markdown",
     "metadata": {},
     "source": [
      "You can also query the database on several fields: country, state, county, city, first_name, last_name, sex, race, eye_color, hair_color, age, weight and height. For instance, try to query for the number of missing Black/African American males. "
     ]
    },
    {
     "cell_type": "code",
     "collapsed": false,
     "input": [
      "response = requests.get(\"http://find-us.herokuapp.com/search?sex=Male&race=Black/African American\")\n",
      "persons = json.loads(response.text)\n",
      "print len(persons)"
     ],
     "language": "python",
     "metadata": {},
     "outputs": [
      {
       "output_type": "stream",
       "stream": "stdout",
       "text": [
        "44\n"
       ]
      }
     ],
     "prompt_number": 37
    },
    {
     "cell_type": "markdown",
     "metadata": {},
     "source": [
      "The API also provides lists for standard identifiers per category. "
     ]
    },
    {
     "cell_type": "code",
     "collapsed": false,
     "input": [
      "response = requests.get(\"http://find-us.herokuapp.com/identifiers/race\")\n",
      "print json.loads(response.text)"
     ],
     "language": "python",
     "metadata": {},
     "outputs": [
      {
       "output_type": "stream",
       "stream": "stdout",
       "text": [
        "[u'Asian or Pacific Islander', u'Black/African American', u'Native American', u'Non-White Hispanic/Latino', u'Other', u'Unknown', u'White', u'White Hispanic/Latino']\n"
       ]
      }
     ],
     "prompt_number": 38
    },
    {
     "cell_type": "code",
     "collapsed": false,
     "input": [
      "response = requests.get(\"http://find-us.herokuapp.com/identifiers/eye_color\")\n",
      "print json.loads(response.text)"
     ],
     "language": "python",
     "metadata": {},
     "outputs": [
      {
       "output_type": "stream",
       "stream": "stdout",
       "text": [
        "[u'Black', u'Blue', u'Brown', u'Gray', u'Green', u'Hazel', u'Maroon', u'Multicolor', u'Pink', u'Unknown']\n"
       ]
      }
     ],
     "prompt_number": 39
    },
    {
     "cell_type": "code",
     "collapsed": false,
     "input": [
      "response = requests.get(\"http://find-us.herokuapp.com/identifiers/hair_color\")\n",
      "print json.loads(response.text)"
     ],
     "language": "python",
     "metadata": {},
     "outputs": [
      {
       "output_type": "stream",
       "stream": "stdout",
       "text": [
        "[u'Black', u'Blonde', u'Brown', u'Gray', u'Red/Auburn', u'Sandy', u'Unknown', u'White']\n"
       ]
      }
     ],
     "prompt_number": 40
    },
    {
     "cell_type": "markdown",
     "metadata": {},
     "source": [
      "For numerical fields such as age, weight and height. You can also query based on a range of possible value. Here we query for those missing persons between the ages of 10 and 15. "
     ]
    },
    {
     "cell_type": "code",
     "collapsed": false,
     "input": [
      "response = requests.get(\"http://find-us.herokuapp.com/search?age_start=10&age_end=15\")\n",
      "print len(json.loads(response.text))"
     ],
     "language": "python",
     "metadata": {},
     "outputs": [
      {
       "output_type": "stream",
       "stream": "stdout",
       "text": [
        "101\n"
       ]
      }
     ],
     "prompt_number": 41
    },
    {
     "cell_type": "markdown",
     "metadata": {},
     "source": [
      "You can also query based of date time ranges. Here we look for dates between 2000-01-20 and 2000-05-20."
     ]
    },
    {
     "cell_type": "code",
     "collapsed": false,
     "input": [
      "response = requests.get(\"http://find-us.herokuapp.com/search?date_start=2000-01-20&date_end=2000-05-20\")\n",
      "print len(json.loads(response.text))"
     ],
     "language": "python",
     "metadata": {},
     "outputs": [
      {
       "output_type": "stream",
       "stream": "stdout",
       "text": [
        "9\n"
       ]
      }
     ],
     "prompt_number": 42
    },
    {
     "cell_type": "markdown",
     "metadata": {},
     "source": [
      "You can also include date time ranges such as between 1976-05-20 00:00:00 and 1976-05-20 15:30:00"
     ]
    },
    {
     "cell_type": "code",
     "collapsed": false,
     "input": [
      "response = requests.get(\"http://find-us.herokuapp.com/search?date_start=1976-05-20 00:00:00&date_end=1976-05-20 15:30:00\")\n",
      "print len(json.loads(response.text))"
     ],
     "language": "python",
     "metadata": {},
     "outputs": [
      {
       "output_type": "stream",
       "stream": "stdout",
       "text": [
        "1\n"
       ]
      }
     ],
     "prompt_number": 43
    },
    {
     "cell_type": "heading",
     "level": 1,
     "metadata": {},
     "source": [
      "How to Work with Missing Persons Data"
     ]
    },
    {
     "cell_type": "markdown",
     "metadata": {},
     "source": [
      "Take a look at the detailed information provided with each missing person."
     ]
    },
    {
     "cell_type": "code",
     "collapsed": false,
     "input": [
      "response = requests.get(\"http://find-us.herokuapp.com/US/California/Alameda/Berkeley\")\n",
      "persons = json.loads(response.text)\n",
      "print len(persons)\n",
      "print json.dumps(persons, sort_keys=True, indent=4, separators=(',', ': '))"
     ],
     "language": "python",
     "metadata": {},
     "outputs": [
      {
       "output_type": "stream",
       "stream": "stdout",
       "text": [
        "4\n",
        "[\n",
        "    {\n",
        "        \"age\": \"34.0\",\n",
        "        \"aged_photo\": \"http://www.missingkids.com/photographs/NCMC808401e1.jpg\",\n",
        "        \"agency_contact\": \"1-510-981-5900\",\n",
        "        \"agency_name\": \"Berkeley Police Department (California)\",\n",
        "        \"circumstance\": \"Peter's photo is shown age-progressed to 30 years.  He was last seen leaving his home to go to a bookstore.  He may no longer be in California.   Peter has 20/400 vision and needs contacts or eyeglasses for distance vision.  He has slight scarring near the tip of his right little finger.  He may use the nickname Rainbow.  He plays guitar.\",\n",
        "        \"city\": \"Berkeley\",\n",
        "        \"country\": \"US\",\n",
        "        \"county\": \"Alameda\",\n",
        "        \"date\": \"1995-08-28 00:00:00\",\n",
        "        \"eye_color\": \"Blue\",\n",
        "        \"first_name\": \"Peter\",\n",
        "        \"hair_color\": \"Brown\",\n",
        "        \"height\": \"72.0\",\n",
        "        \"last_name\": \"Mccoll\",\n",
        "        \"middle_name\": \"John\",\n",
        "        \"namus_number\": \"1870\",\n",
        "        \"ncmec_number\": \"808401\",\n",
        "        \"org\": \"NCMC\",\n",
        "        \"org_contact\": \"1-800-843-5678 (1-800-THE-LOST)\",\n",
        "        \"org_name\": \"National Center for Missing & Exploited Children\",\n",
        "        \"photo\": \"http://www.missingkids.com/photographs/NCMC808401c1t.jpg\",\n",
        "        \"race\": \"White\",\n",
        "        \"sex\": \"Male\",\n",
        "        \"state\": \"California\",\n",
        "        \"weight\": \"160.0\"\n",
        "    },\n",
        "    {\n",
        "        \"age\": \"21.0\",\n",
        "        \"aged_photo\": \"\",\n",
        "        \"agency_contact\": \"510-981-5938\",\n",
        "        \"agency_name\": \"Berkeley Police Department\",\n",
        "        \"circumstance\": \"Wendy was last seen October 31, 1989 in Berkeley, CA.\\n[Source: http://dojapp.doj.ca.gov/missing/detail.asp?FCN=1070010100470] California Department of Justice\",\n",
        "        \"city\": \"Berkeley\",\n",
        "        \"country\": \"US\",\n",
        "        \"county\": \"Alameda\",\n",
        "        \"date\": \"1989-10-31 00:00:00\",\n",
        "        \"eye_color\": \"Brown\",\n",
        "        \"first_name\": \"Wendy\",\n",
        "        \"hair_color\": \"Black\",\n",
        "        \"height\": \"62.0\",\n",
        "        \"last_name\": \"Abrams-nishikai\",\n",
        "        \"middle_name\": \"Jamie\",\n",
        "        \"namus_number\": \"14971\",\n",
        "        \"ncmec_number\": \"\",\n",
        "        \"org\": \"NAMUS\",\n",
        "        \"org_contact\": \"1-855-626-7600\",\n",
        "        \"org_name\": \"National Missing and Unidentified Persons System\",\n",
        "        \"photo\": \"https://www.findthemissing.org/en/photos/thumb/27444\",\n",
        "        \"race\": \"White\",\n",
        "        \"sex\": \"Female\",\n",
        "        \"state\": \"California\",\n",
        "        \"weight\": \"120.0\"\n",
        "    },\n",
        "    {\n",
        "        \"age\": \"20.0\",\n",
        "        \"aged_photo\": \"\",\n",
        "        \"agency_contact\": \"(510) 981-5900\",\n",
        "        \"agency_name\": \"Berkeley Police Department (California)\",\n",
        "        \"circumstance\": \"Lynn was last seen at her residence in the vicinity of the 2800 block of Regent St. in Berkeley, CA. She left her residence to meet a man nat a restaurant in the vicinity of the 2600 block of Telegraph Ave. An unidentified waitress indicated that a woman matching Lynn's description came to the restaurant at 10:15am. Although the restaurant was closed, the waitress let her sit at a table to wait for someone. No one saw the woman leave the restaurant. Law enforcement found Lynn's locked bicycle near the restaurant.\",\n",
        "        \"city\": \"Berkeley\",\n",
        "        \"country\": \"US\",\n",
        "        \"county\": \"Alameda\",\n",
        "        \"date\": \"1976-05-20 00:00:00\",\n",
        "        \"eye_color\": \"Green\",\n",
        "        \"first_name\": \"Lynn\",\n",
        "        \"hair_color\": \"Blonde\",\n",
        "        \"height\": \"64.0\",\n",
        "        \"last_name\": \"Connes\",\n",
        "        \"middle_name\": \"Ruth\",\n",
        "        \"namus_number\": \"594\",\n",
        "        \"ncmec_number\": \"\",\n",
        "        \"org\": \"NAMUS\",\n",
        "        \"org_contact\": \"1-855-626-7600\",\n",
        "        \"org_name\": \"National Missing and Unidentified Persons System\",\n",
        "        \"photo\": \"https://www.findthemissing.org/en/photos/thumb/730\",\n",
        "        \"race\": \"White\",\n",
        "        \"sex\": \"Female\",\n",
        "        \"state\": \"California\",\n",
        "        \"weight\": \"110.0\"\n",
        "    },\n",
        "    {\n",
        "        \"age\": \"17.0\",\n",
        "        \"aged_photo\": \"\",\n",
        "        \"agency_contact\": \"510-981-5900\",\n",
        "        \"agency_name\": \"Berkeley Police Department Missing Persons Unit (California)\",\n",
        "        \"circumstance\": \"Hiramoto was last seen on January 3, 1984, in Berkeley, California.\",\n",
        "        \"city\": \"Berkeley\",\n",
        "        \"country\": \"US\",\n",
        "        \"county\": \"Alameda\",\n",
        "        \"date\": \"1984-01-03 12:06:00\",\n",
        "        \"eye_color\": \"Brown\",\n",
        "        \"first_name\": \"Jitsuro\",\n",
        "        \"hair_color\": \"Black\",\n",
        "        \"height\": \"63.0\",\n",
        "        \"last_name\": \"Hiramoto\",\n",
        "        \"middle_name\": \"D\",\n",
        "        \"namus_number\": \"4542\",\n",
        "        \"ncmec_number\": \"\",\n",
        "        \"org\": \"NAMUS\",\n",
        "        \"org_contact\": \"1-855-626-7600\",\n",
        "        \"org_name\": \"National Missing and Unidentified Persons System\",\n",
        "        \"photo\": \"https://www.findthemissing.org/en/photos/thumb/5695\",\n",
        "        \"race\": \"Asian or Pacific Islander\",\n",
        "        \"sex\": \"Male\",\n",
        "        \"state\": \"California\",\n",
        "        \"weight\": \"105.0\"\n",
        "    }\n",
        "]\n"
       ]
      }
     ],
     "prompt_number": 44
    },
    {
     "cell_type": "markdown",
     "metadata": {},
     "source": [
      "There are photos provided with each missing persons case. Let's try to display all of the photos of the missing persons in California."
     ]
    },
    {
     "cell_type": "code",
     "collapsed": false,
     "input": [
      "response = requests.get(\"http://find-us.herokuapp.com/US/California\")\n",
      "persons = json.loads(response.text)\n",
      "print len(persons)\n",
      "#print json.dumps(persons, sort_keys=True, indent=4, separators=(',', ': '))"
     ],
     "language": "python",
     "metadata": {},
     "outputs": [
      {
       "output_type": "stream",
       "stream": "stdout",
       "text": [
        "1337\n"
       ]
      }
     ],
     "prompt_number": 45
    },
    {
     "cell_type": "code",
     "collapsed": false,
     "input": [
      "def photos_to_html(persons):\n",
      "    html = \"\"\n",
      "    for person in persons:\n",
      "        html += \"<img src=\\\"\" + person[\"photo\"] + \"\\\"/>\"\n",
      "    return HTML(html)\n",
      "\n",
      "photos_to_html(persons)"
     ],
     "language": "python",
     "metadata": {},
     "outputs": [
      {
       "html": [
        "<img src=\"https://www.findthemissing.org/en/photos/thumb/30879\"/><img src=\"https://www.findthemissing.org/en/photos/thumb/30880\"/><img src=\"https://www.findthemissing.org/en/photos/thumb/32591\"/><img src=\"\"/><img src=\"http://www.missingkids.com/photographs/USNV0012326c1t.jpg\"/><img src=\"http://www.missingkids.com/photographs/NCMC1170194c2t.jpg\"/><img src=\"https://www.findthemissing.org/en/photos/thumb/30881\"/><img src=\"https://www.findthemissing.org/en/photos/thumb/20293\"/><img src=\"https://www.findthemissing.org/en/photos/thumb/14333\"/><img src=\"https://www.findthemissing.org/en/photos/thumb/28601\"/><img src=\"https://www.findthemissing.org/en/photos/thumb/6857\"/><img src=\"https://www.findthemissing.org/en/photos/thumb/22558\"/><img src=\"https://www.findthemissing.org/en/photos/thumb/22563\"/><img src=\"http://www.missingkids.com/photographs/NCMC600818c1t.jpg\"/><img src=\"http://www.missingkids.com/photographs/NCMC1053510c1t.jpg\"/><img src=\"http://www.missingkids.com/photographs/NCMC1167176c1t.jpg\"/><img src=\"https://www.findthemissing.org/en/photos/thumb/18182\"/><img src=\"http://www.missingkids.com/photographs/NCMC1022333c1t.jpg\"/><img src=\"https://www.findthemissing.org/en/photos/thumb/36449\"/><img src=\"http://www.missingkids.com/photographs/NCMC852270c1t.jpg\"/><img src=\"\"/><img src=\"https://www.findthemissing.org/en/photos/thumb/17152\"/><img src=\"https://www.findthemissing.org/en/photos/thumb/5181\"/><img src=\"https://www.findthemissing.org/en/photos/thumb/24602\"/><img src=\"https://www.findthemissing.org/en/photos/thumb/17151\"/><img src=\"https://www.findthemissing.org/en/photos/thumb/29230\"/><img src=\"https://www.findthemissing.org/en/photos/thumb/43984\"/><img src=\"https://www.findthemissing.org/en/photos/thumb/29062\"/><img src=\"http://www.missingkids.com/photographs/NCMC982012c1t.jpg\"/><img src=\"\"/><img src=\"https://www.findthemissing.org/en/photos/thumb/7738\"/><img src=\"https://www.findthemissing.org/en/photos/thumb/41055\"/><img src=\"\"/><img src=\"http://www.missingkids.com/photographs/NCMC864049c1t.jpg\"/><img src=\"https://www.findthemissing.org/en/photos/thumb/14910\"/><img src=\"https://www.findthemissing.org/en/photos/thumb/1574\"/><img src=\"http://www.missingkids.com/photographs/NCMC1151962c3t.jpg\"/><img src=\"https://www.findthemissing.org/en/photos/thumb/7902\"/><img src=\"https://www.findthemissing.org/en/photos/thumb/5792\"/><img src=\"https://www.findthemissing.org/en/photos/thumb/5817\"/><img src=\"https://www.findthemissing.org/en/photos/thumb/14226\"/><img src=\"\"/><img src=\"https://www.findthemissing.org/en/photos/thumb/4263\"/><img src=\"https://www.findthemissing.org/en/photos/thumb/17469\"/><img src=\"http://www.missingkids.com/photographs/NCMC895143c1t.jpg\"/><img src=\"https://www.findthemissing.org/en/photos/thumb/41030\"/><img src=\"https://www.findthemissing.org/en/photos/thumb/39794\"/><img src=\"https://www.findthemissing.org/en/photos/thumb/7122\"/><img src=\"\"/><img src=\"https://www.findthemissing.org/en/photos/thumb/682\"/><img src=\"https://www.findthemissing.org/en/photos/thumb/14386\"/><img src=\"\"/><img src=\"\"/><img src=\"https://www.findthemissing.org/en/photos/thumb/29353\"/><img src=\"http://www.missingkids.com/photographs/NCMC1152805c1t.jpg\"/><img src=\"http://www.missingkids.com/photographs/NCMC787469c1t.jpg\"/><img src=\"\"/><img src=\"http://www.missingkids.com/photographs/NCMC1175494c1t.jpg\"/><img src=\"https://www.findthemissing.org/en/photos/thumb/33216\"/><img src=\"https://www.findthemissing.org/en/photos/thumb/35279\"/><img src=\"https://www.findthemissing.org/en/photos/thumb/14392\"/><img src=\"\"/><img src=\"\"/><img src=\"https://www.findthemissing.org/en/photos/thumb/32541\"/><img src=\"https://www.findthemissing.org/en/photos/thumb/35071\"/><img src=\"http://www.missingkids.com/photographs/NCMC601948c1t.jpg\"/><img src=\"https://www.findthemissing.org/en/photos/thumb/977\"/><img src=\"https://www.findthemissing.org/en/photos/thumb/18637\"/><img src=\"https://www.findthemissing.org/en/photos/thumb/35054\"/><img src=\"https://www.findthemissing.org/en/photos/thumb/35056\"/><img src=\"https://www.findthemissing.org/en/photos/thumb/35060\"/><img src=\"https://www.findthemissing.org/en/photos/thumb/27775\"/><img src=\"https://www.findthemissing.org/en/photos/thumb/41500\"/><img src=\"https://www.findthemissing.org/en/photos/thumb/6547\"/><img src=\"http://www.missingkids.com/photographs/NCMC1124162c1t.jpg\"/><img src=\"https://www.findthemissing.org/en/photos/thumb/40832\"/><img src=\"http://www.missingkids.com/photographs/NCMC1014091c2t.jpg\"/><img src=\"https://www.findthemissing.org/en/photos/thumb/32849\"/><img src=\"https://www.findthemissing.org/en/photos/thumb/20038\"/><img src=\"http://www.missingkids.com/photographs/NCMC1040116c1t.jpg\"/><img src=\"https://www.findthemissing.org/en/photos/thumb/1668\"/><img src=\"https://www.findthemissing.org/en/photos/thumb/1669\"/><img src=\"https://www.findthemissing.org/en/photos/thumb/1664\"/><img src=\"https://www.findthemissing.org/en/photos/thumb/10733\"/><img src=\"https://www.findthemissing.org/en/photos/thumb/41531\"/><img src=\"https://www.findthemissing.org/en/photos/thumb/1663\"/><img src=\"\"/><img src=\"\"/><img src=\"https://www.findthemissing.org/en/photos/thumb/1659\"/><img src=\"https://www.findthemissing.org/en/photos/thumb/30542\"/><img src=\"https://www.findthemissing.org/en/photos/thumb/30544\"/><img src=\"\"/><img src=\"http://www.missingkids.com/photographs/NCMC1226154c1t.jpg\"/><img src=\"http://www.missingkids.com/photographs/NCMC1197745c1t.jpg\"/><img src=\"https://www.findthemissing.org/en/photos/thumb/2078\"/><img src=\"https://www.findthemissing.org/en/photos/thumb/1671\"/><img src=\"https://www.findthemissing.org/en/photos/thumb/1673\"/><img src=\"https://www.findthemissing.org/en/photos/thumb/19583\"/><img src=\"https://www.findthemissing.org/en/photos/thumb/6527\"/><img src=\"https://www.findthemissing.org/en/photos/thumb/19585\"/><img src=\"https://www.findthemissing.org/en/photos/thumb/30516\"/><img src=\"https://www.findthemissing.org/en/photos/thumb/33566\"/><img src=\"https://www.findthemissing.org/en/photos/thumb/42987\"/><img src=\"http://www.missingkids.com/photographs/NCMC601913c1t.jpg\"/><img src=\"\"/><img src=\"https://www.findthemissing.org/en/photos/thumb/21858\"/><img src=\"https://www.findthemissing.org/en/photos/thumb/21398\"/><img src=\"\"/><img src=\"http://www.missingkids.com/photographs/NCMC1065496c1t.jpg\"/><img src=\"http://www.missingkids.com/photographs/NCMC1169490ac2t.jpg\"/><img src=\"http://www.missingkids.com/photographs/NCMC1219197c1t.jpg\"/><img src=\"\"/><img src=\"https://www.findthemissing.org/en/photos/thumb/1704\"/><img src=\"https://www.findthemissing.org/en/photos/thumb/1703\"/><img src=\"https://www.findthemissing.org/en/photos/thumb/1702\"/><img src=\"http://www.missingkids.com/photographs/NCMC808401c1t.jpg\"/><img src=\"https://www.findthemissing.org/en/photos/thumb/27205\"/><img src=\"http://www.missingkids.com/photographs/NCMC1228979c1t.jpg\"/><img src=\"https://www.findthemissing.org/en/photos/thumb/42491\"/><img src=\"https://www.findthemissing.org/en/photos/thumb/27639\"/><img src=\"\"/><img src=\"http://www.missingkids.com/photographs/NCMC1163577c1t.jpg\"/><img src=\"https://www.findthemissing.org/en/photos/thumb/39259\"/><img src=\"\"/><img src=\"https://www.findthemissing.org/en/photos/thumb/27665\"/><img src=\"http://www.missingkids.com/photographs/NCMC722131c1t.jpg\"/><img src=\"https://www.findthemissing.org/en/photos/thumb/20879\"/><img src=\"https://www.findthemissing.org/en/photos/thumb/18775\"/><img src=\"https://www.findthemissing.org/en/photos/thumb/20775\"/><img src=\"\"/><img src=\"https://www.findthemissing.org/en/photos/thumb/10467\"/><img src=\"http://www.missingkids.com/photographs/NCMC1230435c1t.jpg\"/><img src=\"\"/><img src=\"https://www.findthemissing.org/en/photos/thumb/33280\"/><img src=\"\"/><img src=\"\"/><img src=\"https://www.findthemissing.org/en/photos/thumb/40627\"/><img src=\"https://www.findthemissing.org/en/photos/thumb/13963\"/><img src=\"http://www.missingkids.com/photographs/NCMC1208677c1t.jpg\"/><img src=\"\"/><img src=\"https://www.findthemissing.org/en/photos/thumb/10055\"/><img src=\"https://www.findthemissing.org/en/photos/thumb/31661\"/><img src=\"\"/><img src=\"\"/><img src=\"https://www.findthemissing.org/en/photos/thumb/38186\"/><img src=\"https://www.findthemissing.org/en/photos/thumb/43730\"/><img src=\"https://www.findthemissing.org/en/photos/thumb/34520\"/><img src=\"https://www.findthemissing.org/en/photos/thumb/9094\"/><img src=\"http://www.missingkids.com/photographs/NCMC1207331c1t.jpg\"/><img src=\"https://www.findthemissing.org/en/photos/thumb/31665\"/><img src=\"https://www.findthemissing.org/en/photos/thumb/6071\"/><img src=\"https://www.findthemissing.org/en/photos/thumb/6142\"/><img src=\"https://www.findthemissing.org/en/photos/thumb/5693\"/><img src=\"https://www.findthemissing.org/en/photos/thumb/35801\"/><img src=\"https://www.findthemissing.org/en/photos/thumb/17450\"/><img src=\"https://www.findthemissing.org/en/photos/thumb/5587\"/><img src=\"https://www.findthemissing.org/en/photos/thumb/33727\"/><img src=\"https://www.findthemissing.org/en/photos/thumb/26858\"/><img src=\"https://www.findthemissing.org/en/photos/thumb/4997\"/><img src=\"http://www.missingkids.com/photographs/NCMC1180261c1t.jpg\"/><img src=\"https://www.findthemissing.org/en/photos/thumb/5582\"/><img src=\"https://www.findthemissing.org/en/photos/thumb/5580\"/><img src=\"https://www.findthemissing.org/en/photos/thumb/11493\"/><img src=\"\"/><img src=\"https://www.findthemissing.org/en/photos/thumb/32036\"/><img src=\"https://www.findthemissing.org/en/photos/thumb/12484\"/><img src=\"https://www.findthemissing.org/en/photos/thumb/12768\"/><img src=\"https://www.findthemissing.org/en/photos/thumb/41889\"/><img src=\"http://www.missingkids.com/photographs/NCMC1177132c1t.jpg\"/><img src=\"http://www.missingkids.com/photographs/NCMC969363c1t.jpg\"/><img src=\"https://www.findthemissing.org/en/photos/thumb/15433\"/><img src=\"https://www.findthemissing.org/en/photos/thumb/708\"/><img src=\"https://www.findthemissing.org/en/photos/thumb/43596\"/><img src=\"http://www.missingkids.com/photographs/NCMC834986c1t.jpg\"/><img src=\"https://www.findthemissing.org/en/photos/thumb/15429\"/><img src=\"https://www.findthemissing.org/en/photos/thumb/5804\"/><img src=\"https://www.findthemissing.org/en/photos/thumb/33012\"/><img src=\"https://www.findthemissing.org/en/photos/thumb/5363\"/><img src=\"https://www.findthemissing.org/en/photos/thumb/22445\"/><img src=\"https://www.findthemissing.org/en/photos/thumb/35890\"/><img src=\"https://www.findthemissing.org/en/photos/thumb/22362\"/><img src=\"https://www.findthemissing.org/en/photos/thumb/35116\"/><img src=\"https://www.findthemissing.org/en/photos/thumb/15832\"/><img src=\"https://www.findthemissing.org/en/photos/thumb/13056\"/><img src=\"http://www.missingkids.com/photographs/NCMC603351c1t.jpg\"/><img src=\"https://www.findthemissing.org/en/photos/thumb/33269\"/><img src=\"https://www.findthemissing.org/en/photos/thumb/34593\"/><img src=\"https://www.findthemissing.org/en/photos/thumb/20001\"/><img src=\"https://www.findthemissing.org/en/photos/thumb/13811\"/><img src=\"https://www.findthemissing.org/en/photos/thumb/33265\"/><img src=\"https://www.findthemissing.org/en/photos/thumb/41950\"/><img src=\"http://www.missingkids.com/photographs/NCMC770786c1t.jpg\"/><img src=\"https://www.findthemissing.org/en/photos/thumb/16772\"/><img src=\"\"/><img src=\"https://www.findthemissing.org/en/photos/thumb/39694\"/><img src=\"https://www.findthemissing.org/en/photos/thumb/33986\"/><img src=\"https://www.findthemissing.org/en/photos/thumb/10137\"/><img src=\"http://www.missingkids.com/photographs/NCMC1228629c1t.jpg\"/><img src=\"https://www.findthemissing.org/en/photos/thumb/30875\"/><img src=\"https://www.findthemissing.org/en/photos/thumb/36367\"/><img src=\"https://www.findthemissing.org/en/photos/thumb/35117\"/><img src=\"https://www.findthemissing.org/en/photos/thumb/33982\"/><img src=\"http://www.missingkids.com/photographs/NCMC1228555c1t.jpg\"/><img src=\"http://www.missingkids.com/photographs/NCMC835169c1t.jpg\"/><img src=\"https://www.findthemissing.org/en/photos/thumb/5304\"/><img src=\"http://www.missingkids.com/photographs/NCMC1130433c1t.jpg\"/><img src=\"http://www.missingkids.com/photographs/NCMC1230465c1t.jpg\"/><img src=\"https://www.findthemissing.org/en/photos/thumb/417\"/><img src=\"\"/><img src=\"\"/><img src=\"http://www.missingkids.com/photographs/NCMC808613c1t.jpg\"/><img src=\"https://www.findthemissing.org/en/photos/thumb/1509\"/><img src=\"https://www.findthemissing.org/en/photos/thumb/1508\"/><img src=\"https://www.findthemissing.org/en/photos/thumb/15664\"/><img src=\"https://www.findthemissing.org/en/photos/thumb/1515\"/><img src=\"https://www.findthemissing.org/en/photos/thumb/1513\"/><img src=\"http://www.missingkids.com/photographs/NCMC1222587c2t.jpg\"/><img src=\"https://www.findthemissing.org/en/photos/thumb/5250\"/><img src=\"http://www.missingkids.com/photographs/NCMC1191679c1t.jpg\"/><img src=\"https://www.findthemissing.org/en/photos/thumb/5253\"/><img src=\"https://www.findthemissing.org/en/photos/thumb/37530\"/><img src=\"https://www.findthemissing.org/en/photos/thumb/5247\"/><img src=\"http://www.missingkids.com/photographs/NCMC1198664c1t.jpg\"/><img src=\"http://www.missingkids.com/photographs/NCMC1224937c1t.jpg\"/><img src=\"https://www.findthemissing.org/en/photos/thumb/31729\"/><img src=\"\"/><img src=\"https://www.findthemissing.org/en/photos/thumb/19353\"/><img src=\"https://www.findthemissing.org/en/photos/thumb/20521\"/><img src=\"https://www.findthemissing.org/en/photos/thumb/43544\"/><img src=\"http://www.missingkids.com/photographs/NCMC858017c1t.jpg\"/><img src=\"http://www.missingkids.com/photographs/NCMC601935c1t.jpg\"/><img src=\"https://www.findthemissing.org/en/photos/thumb/3932\"/><img src=\"https://www.findthemissing.org/en/photos/thumb/38761\"/><img src=\"https://www.findthemissing.org/en/photos/thumb/29835\"/><img src=\"https://www.findthemissing.org/en/photos/thumb/29675\"/><img src=\"\"/><img src=\"https://www.findthemissing.org/en/photos/thumb/21026\"/><img src=\"http://www.missingkids.com/photographs/NCMC1144027c1t.jpg\"/><img src=\"https://www.findthemissing.org/en/photos/thumb/15726\"/><img src=\"https://www.findthemissing.org/en/photos/thumb/30381\"/><img src=\"https://www.findthemissing.org/en/photos/thumb/30399\"/><img src=\"https://www.findthemissing.org/en/photos/thumb/39781\"/><img src=\"https://www.findthemissing.org/en/photos/thumb/42455\"/><img src=\"http://www.missingkids.com/photographs/NCMC1203501c2t.jpg\"/><img src=\"http://www.missingkids.com/photographs/NCMC604028c1t.jpg\"/><img src=\"https://www.findthemissing.org/en/photos/thumb/14912\"/><img src=\"http://www.missingkids.com/photographs/NCMC1230058c1t.jpg\"/><img src=\"http://www.missingkids.com/photographs/NCMC1178910c1t.jpg\"/><img src=\"https://www.findthemissing.org/en/photos/thumb/35401\"/><img src=\"https://www.findthemissing.org/en/photos/thumb/26099\"/><img src=\"http://www.missingkids.com/photographs/NCMC890537c1t.jpg\"/><img src=\"https://www.findthemissing.org/en/photos/thumb/15838\"/><img src=\"https://www.findthemissing.org/en/photos/thumb/34911\"/><img src=\"https://www.findthemissing.org/en/photos/thumb/35118\"/><img src=\"https://www.findthemissing.org/en/photos/thumb/33711\"/><img src=\"\"/><img src=\"\"/><img src=\"\"/><img src=\"\"/><img src=\"\"/><img src=\"\"/><img src=\"http://www.missingkids.com/photographs/NCMC1227424c1t.jpg\"/><img src=\"https://www.findthemissing.org/en/photos/thumb/34797\"/><img src=\"https://www.findthemissing.org/en/photos/thumb/21807\"/><img src=\"https://www.findthemissing.org/en/photos/thumb/22835\"/><img src=\"https://www.findthemissing.org/en/photos/thumb/19273\"/><img src=\"\"/><img src=\"http://www.missingkids.com/photographs/NCMC1053317c1t.jpg\"/><img src=\"\"/><img src=\"https://www.findthemissing.org/en/photos/thumb/43861\"/><img src=\"https://www.findthemissing.org/en/photos/thumb/27206\"/><img src=\"http://www.missingkids.com/photographs/NCMC1067210c1t.jpg\"/><img src=\"\"/><img src=\"http://www.missingkids.com/photographs/NCMC1154470c1t.jpg\"/><img src=\"http://www.missingkids.com/photographs/NCMC761400c1t.jpg\"/><img src=\"https://www.findthemissing.org/en/photos/thumb/27444\"/><img src=\"https://www.findthemissing.org/en/photos/thumb/730\"/><img src=\"https://www.findthemissing.org/en/photos/thumb/35132\"/><img src=\"https://www.findthemissing.org/en/photos/thumb/11218\"/><img src=\"http://www.missingkids.com/photographs/NCMC1230668c1t.jpg\"/><img src=\"\"/><img src=\"https://www.findthemissing.org/en/photos/thumb/39245\"/><img src=\"\"/><img src=\"http://www.missingkids.com/photographs/NCMC1102392c1t.jpg\"/><img src=\"https://www.findthemissing.org/en/photos/thumb/7078\"/><img src=\"\"/><img src=\"http://www.missingkids.com/photographs/NCMC1213786c1t.jpg\"/><img src=\"https://www.findthemissing.org/en/photos/thumb/20585\"/><img src=\"\"/><img src=\"https://www.findthemissing.org/en/photos/thumb/20412\"/><img src=\"http://www.missingkids.com/photographs/NCMC1195701c1t.jpg\"/><img src=\"\"/><img src=\"https://www.findthemissing.org/en/photos/thumb/20308\"/><img src=\"\"/><img src=\"http://www.missingkids.com/photographs/NCMC890854c1t.jpg\"/><img src=\"\"/><img src=\"https://www.findthemissing.org/en/photos/thumb/26156\"/><img src=\"https://www.findthemissing.org/en/photos/thumb/30724\"/><img src=\"https://www.findthemissing.org/en/photos/thumb/30722\"/><img src=\"\"/><img src=\"https://www.findthemissing.org/en/photos/thumb/30725\"/><img src=\"http://www.missingkids.com/photographs/NCMC840753c1t.jpg\"/><img src=\"https://www.findthemissing.org/en/photos/thumb/43263\"/><img src=\"http://www.missingkids.com/photographs/NCMC1126040c1t.jpg\"/><img src=\"https://www.findthemissing.org/en/photos/thumb/28067\"/><img src=\"http://www.missingkids.com/photographs/NCMC1089132c1t.jpg\"/><img src=\"https://www.findthemissing.org/en/photos/thumb/28076\"/><img src=\"http://www.missingkids.com/photographs/NCMC1218905c1t.jpg\"/><img src=\"https://www.findthemissing.org/en/photos/thumb/11228\"/><img src=\"\"/><img src=\"\"/><img src=\"\"/><img src=\"http://www.missingkids.com/photographs/NCMC952801c1t.jpg\"/><img src=\"https://www.findthemissing.org/en/photos/thumb/30748\"/><img src=\"https://www.findthemissing.org/en/photos/thumb/10302\"/><img src=\"https://www.findthemissing.org/en/photos/thumb/22685\"/><img src=\"https://www.findthemissing.org/en/photos/thumb/22714\"/><img src=\"http://www.missingkids.com/photographs/NCMC1216680c1t.jpg\"/><img src=\"http://www.missingkids.com/photographs/NCMC1010317c3t.jpg\"/><img src=\"https://www.findthemissing.org/en/photos/thumb/26110\"/><img src=\"https://www.findthemissing.org/en/photos/thumb/26113\"/><img src=\"https://www.findthemissing.org/en/photos/thumb/21969\"/><img src=\"https://www.findthemissing.org/en/photos/thumb/32939\"/><img src=\"https://www.findthemissing.org/en/photos/thumb/29145\"/><img src=\"https://www.findthemissing.org/en/photos/thumb/31248\"/><img src=\"http://www.missingkids.com/photographs/NCMC1222953c1t.jpg\"/><img src=\"https://www.findthemissing.org/en/photos/thumb/27018\"/><img src=\"https://www.findthemissing.org/en/photos/thumb/15408\"/><img src=\"https://www.findthemissing.org/en/photos/thumb/26112\"/><img src=\"https://www.findthemissing.org/en/photos/thumb/27094\"/><img src=\"http://www.missingkids.com/photographs/NCMC1190725c1t.jpg\"/><img src=\"http://www.missingkids.com/photographs/NCMC1154483c1t.jpg\"/><img src=\"http://www.missingkids.com/photographs/NCMC604549c2t.jpg\"/><img src=\"https://www.findthemissing.org/en/photos/thumb/9799\"/><img src=\"https://www.findthemissing.org/en/photos/thumb/21268\"/><img src=\"http://www.missingkids.com/photographs/NCMC1229261c1t.jpg\"/><img src=\"http://www.missingkids.com/photographs/NCMC1177263c1t.jpg\"/><img src=\"http://www.missingkids.com/photographs/NCMC1211541c1t.jpg\"/><img src=\"http://www.missingkids.com/photographs/NCMC1225541c1t.jpg\"/><img src=\"http://www.missingkids.com/photographs/NCMC1220883c1t.jpg\"/><img src=\"\"/><img src=\"https://www.findthemissing.org/en/photos/thumb/28415\"/><img src=\"https://www.findthemissing.org/en/photos/thumb/24470\"/><img src=\"https://www.findthemissing.org/en/photos/thumb/34903\"/><img src=\"\"/><img src=\"http://www.missingkids.com/photographs/NCMC1131079c2t.jpg\"/><img src=\"https://www.findthemissing.org/en/photos/thumb/25584\"/><img src=\"https://www.findthemissing.org/en/photos/thumb/24464\"/><img src=\"https://www.findthemissing.org/en/photos/thumb/12105\"/><img src=\"\"/><img src=\"http://www.missingkids.com/photographs/NCMC1227281c1t.jpg\"/><img src=\"https://www.findthemissing.org/en/photos/thumb/14726\"/><img src=\"https://www.findthemissing.org/en/photos/thumb/43913\"/><img src=\"http://www.missingkids.com/photographs/NCMC1212790c1t.jpg\"/><img src=\"https://www.findthemissing.org/en/photos/thumb/42321\"/><img src=\"https://www.findthemissing.org/en/photos/thumb/31487\"/><img src=\"\"/><img src=\"https://www.findthemissing.org/en/photos/thumb/9822\"/><img src=\"https://www.findthemissing.org/en/photos/thumb/14265\"/><img src=\"https://www.findthemissing.org/en/photos/thumb/14264\"/><img src=\"\"/><img src=\"https://www.findthemissing.org/en/photos/thumb/31066\"/><img src=\"https://www.findthemissing.org/en/photos/thumb/18381\"/><img src=\"https://www.findthemissing.org/en/photos/thumb/31723\"/><img src=\"https://www.findthemissing.org/en/photos/thumb/36220\"/><img src=\"https://www.findthemissing.org/en/photos/thumb/17008\"/><img src=\"https://www.findthemissing.org/en/photos/thumb/30673\"/><img src=\"https://www.findthemissing.org/en/photos/thumb/30672\"/><img src=\"https://www.findthemissing.org/en/photos/thumb/30671\"/><img src=\"http://www.missingkids.com/photographs/NCMA1222511c1t.jpg\"/><img src=\"https://www.findthemissing.org/en/photos/thumb/5562\"/><img src=\"https://www.findthemissing.org/en/photos/thumb/3713\"/><img src=\"http://www.missingkids.com/photographs/NCMC811025c1t.jpg\"/><img src=\"http://www.missingkids.com/photographs/NCMC1131079bc2t.jpg\"/><img src=\"https://www.findthemissing.org/en/photos/thumb/5570\"/><img src=\"http://www.missingkids.com/photographs/NCMC1227968c1t.jpg\"/><img src=\"https://www.findthemissing.org/en/photos/thumb/28736\"/><img src=\"https://www.findthemissing.org/en/photos/thumb/15253\"/><img src=\"https://www.findthemissing.org/en/photos/thumb/35528\"/><img src=\"http://www.missingkids.com/photographs/NCMC1150186c1t.jpg\"/><img src=\"https://www.findthemissing.org/en/photos/thumb/6872\"/><img src=\"https://www.findthemissing.org/en/photos/thumb/26677\"/><img src=\"http://www.missingkids.com/photographs/NCMC1206808c1t.jpg\"/><img src=\"https://www.findthemissing.org/en/photos/thumb/31825\"/><img src=\"https://www.findthemissing.org/en/photos/thumb/42581\"/><img src=\"https://www.findthemissing.org/en/photos/thumb/43033\"/><img src=\"https://www.findthemissing.org/en/photos/thumb/16263\"/><img src=\"https://www.findthemissing.org/en/photos/thumb/13055\"/><img src=\"https://www.findthemissing.org/en/photos/thumb/13054\"/><img src=\"https://www.findthemissing.org/en/photos/thumb/24455\"/><img src=\"http://www.missingkids.com/photographs/NCMC1228472c1t.jpg\"/><img src=\"https://www.findthemissing.org/en/photos/thumb/35866\"/><img src=\"\"/><img src=\"http://www.missingkids.com/photographs/NCMC1156887c1t.jpg\"/><img src=\"\"/><img src=\"http://www.missingkids.com/photographs/NCMC1189273c1t.jpg\"/><img src=\"https://www.findthemissing.org/en/photos/thumb/39695\"/><img src=\"https://www.findthemissing.org/en/photos/thumb/23552\"/><img src=\"https://www.findthemissing.org/en/photos/thumb/39689\"/><img src=\"https://www.findthemissing.org/en/photos/thumb/19852\"/><img src=\"https://www.findthemissing.org/en/photos/thumb/39687\"/><img src=\"http://www.missingkids.com/photographs/NCMC846044c1t.jpg\"/><img src=\"http://www.missingkids.com/photographs/NCMC927657c1t.jpg\"/><img src=\"https://www.findthemissing.org/en/photos/thumb/22503\"/><img src=\"https://www.findthemissing.org/en/photos/thumb/7745\"/><img src=\"\"/><img src=\"https://www.findthemissing.org/en/photos/thumb/39696\"/><img src=\"\"/><img src=\"http://www.missingkids.com/photographs/ICMC1008c1t.jpg\"/><img src=\"https://www.findthemissing.org/en/photos/thumb/5554\"/><img src=\"\"/><img src=\"http://www.missingkids.com/photographs/ICMC1009c3t.jpg\"/><img src=\"http://www.missingkids.com/photographs/NCMC1137889c1t.jpg\"/><img src=\"http://www.missingkids.com/photographs/NCMC1156437c1t.jpg\"/><img src=\"https://www.findthemissing.org/en/photos/thumb/4009\"/><img src=\"https://www.findthemissing.org/en/photos/thumb/5419\"/><img src=\"http://www.missingkids.com/photographs/NCMC1148055c1t.jpg\"/><img src=\"http://www.missingkids.com/photographs/NCMC1218522c1t.jpg\"/><img src=\"https://www.findthemissing.org/en/photos/thumb/34864\"/><img src=\"https://www.findthemissing.org/en/photos/thumb/28422\"/><img src=\"https://www.findthemissing.org/en/photos/thumb/45\"/><img src=\"\"/><img src=\"\"/><img src=\"https://www.findthemissing.org/en/photos/thumb/37208\"/><img src=\"https://www.findthemissing.org/en/photos/thumb/10814\"/><img src=\"https://www.findthemissing.org/en/photos/thumb/14719\"/><img src=\"http://www.missingkids.com/photographs/NCMC1227489c1t.jpg\"/><img src=\"https://www.findthemissing.org/en/photos/thumb/19419\"/><img src=\"https://www.findthemissing.org/en/photos/thumb/31103\"/><img src=\"http://www.missingkids.com/photographs/NCMC1188684c1t.jpg\"/><img src=\"https://www.findthemissing.org/en/photos/thumb/35556\"/><img src=\"https://www.findthemissing.org/en/photos/thumb/15688\"/><img src=\"http://www.missingkids.com/photographs/NCMC1009338c1t.jpg\"/><img src=\"https://www.findthemissing.org/en/photos/thumb/43746\"/><img src=\"https://www.findthemissing.org/en/photos/thumb/5714\"/><img src=\"https://www.findthemissing.org/en/photos/thumb/28397\"/><img src=\"https://www.findthemissing.org/en/photos/thumb/35574\"/><img src=\"https://www.findthemissing.org/en/photos/thumb/34794\"/><img src=\"http://www.missingkids.com/photographs/NCMC792466c1t.jpg\"/><img src=\"\"/><img src=\"https://www.findthemissing.org/en/photos/thumb/23308\"/><img src=\"https://www.findthemissing.org/en/photos/thumb/13960\"/><img src=\"http://www.missingkids.com/photographs/NCMC1206890c1t.jpg\"/><img src=\"http://www.missingkids.com/photographs/NCMC1082616c2t.jpg\"/><img src=\"https://www.findthemissing.org/en/photos/thumb/13271\"/><img src=\"https://www.findthemissing.org/en/photos/thumb/23907\"/><img src=\"http://www.missingkids.com/photographs/NCMC1169490c2t.jpg\"/><img src=\"\"/><img src=\"https://www.findthemissing.org/en/photos/thumb/14788\"/><img src=\"http://www.missingkids.com/photographs/NCMC828775c1t.jpg\"/><img src=\"https://www.findthemissing.org/en/photos/thumb/39765\"/><img src=\"http://www.missingkids.com/photographs/NCMC1230669c1t.jpg\"/><img src=\"http://www.missingkids.com/photographs/NCMC601047c1t.jpg\"/><img src=\"https://www.findthemissing.org/en/photos/thumb/1685\"/><img src=\"https://www.findthemissing.org/en/photos/thumb/23548\"/><img src=\"https://www.findthemissing.org/en/photos/thumb/1688\"/><img src=\"https://www.findthemissing.org/en/photos/thumb/1687\"/><img src=\"https://www.findthemissing.org/en/photos/thumb/1678\"/><img src=\"https://www.findthemissing.org/en/photos/thumb/30517\"/><img src=\"https://www.findthemissing.org/en/photos/thumb/1682\"/><img src=\"https://www.findthemissing.org/en/photos/thumb/30515\"/><img src=\"https://www.findthemissing.org/en/photos/thumb/41542\"/><img src=\"http://www.missingkids.com/photographs/NCMC1211168c1t.jpg\"/><img src=\"http://www.missingkids.com/photographs/NCMC1225186c1t.jpg\"/><img src=\"https://www.findthemissing.org/en/photos/thumb/1690\"/><img src=\"https://www.findthemissing.org/en/photos/thumb/5707\"/><img src=\"https://www.findthemissing.org/en/photos/thumb/43309\"/><img src=\"http://www.missingkids.com/photographs/NCMC1184813c2t.jpg\"/><img src=\"\"/><img src=\"https://www.findthemissing.org/en/photos/thumb/40193\"/><img src=\"\"/><img src=\"http://www.missingkids.com/photographs/NCMC600289c1t.jpg\"/><img src=\"http://www.missingkids.com/photographs/NCMC1152008c1t.jpg\"/><img src=\"http://www.missingkids.com/photographs/NCMC1155576c1t.jpg\"/><img src=\"http://www.missingkids.com/photographs/NCMC1068223c2t.jpg\"/><img src=\"http://www.missingkids.com/photographs/NCMC829432c1t.jpg\"/><img src=\"https://www.findthemissing.org/en/photos/thumb/6531\"/><img src=\"http://www.missingkids.com/photographs/NCMC1132393c1t.jpg\"/><img src=\"https://www.findthemissing.org/en/photos/thumb/32818\"/><img src=\"https://www.findthemissing.org/en/photos/thumb/11062\"/><img src=\"\"/><img src=\"https://www.findthemissing.org/en/photos/thumb/19332\"/><img src=\"https://www.findthemissing.org/en/photos/thumb/27326\"/><img src=\"https://www.findthemissing.org/en/photos/thumb/22273\"/><img src=\"https://www.findthemissing.org/en/photos/thumb/12502\"/><img src=\"https://www.findthemissing.org/en/photos/thumb/42387\"/><img src=\"https://www.findthemissing.org/en/photos/thumb/24469\"/><img src=\"http://www.missingkids.com/photographs/NCMC1159639c1t.jpg\"/><img src=\"http://www.missingkids.com/photographs/NCMC1198303c1t.jpg\"/><img src=\"https://www.findthemissing.org/en/photos/thumb/20766\"/><img src=\"https://www.findthemissing.org/en/photos/thumb/2824\"/><img src=\"https://www.findthemissing.org/en/photos/thumb/7080\"/><img src=\"https://www.findthemissing.org/en/photos/thumb/20730\"/><img src=\"http://www.missingkids.com/photographs/NCMC1208951c1t.jpg\"/><img src=\"https://www.findthemissing.org/en/photos/thumb/17369\"/><img src=\"http://www.missingkids.com/photographs/NCMC1188171c1t.jpg\"/><img src=\"\"/><img src=\"https://www.findthemissing.org/en/photos/thumb/3335\"/><img src=\"https://www.findthemissing.org/en/photos/thumb/21166\"/><img src=\"https://www.findthemissing.org/en/photos/thumb/2831\"/><img src=\"https://www.findthemissing.org/en/photos/thumb/21549\"/><img src=\"\"/><img src=\"http://www.missingkids.com/photographs/NCMC1094339c4t.jpg\"/><img src=\"https://www.findthemissing.org/en/photos/thumb/41796\"/><img src=\"https://www.findthemissing.org/en/photos/thumb/31416\"/><img src=\"\"/><img src=\"https://www.findthemissing.org/en/photos/thumb/13816\"/><img src=\"https://www.findthemissing.org/en/photos/thumb/31633\"/><img src=\"https://www.findthemissing.org/en/photos/thumb/30157\"/><img src=\"\"/><img src=\"https://www.findthemissing.org/en/photos/thumb/28195\"/><img src=\"https://www.findthemissing.org/en/photos/thumb/31636\"/><img src=\"https://www.findthemissing.org/en/photos/thumb/31637\"/><img src=\"http://www.missingkids.com/photographs/NCMC951807c1t.jpg\"/><img src=\"https://www.findthemissing.org/en/photos/thumb/32047\"/><img src=\"https://www.findthemissing.org/en/photos/thumb/30563\"/><img src=\"https://www.findthemissing.org/en/photos/thumb/30562\"/><img src=\"https://www.findthemissing.org/en/photos/thumb/33771\"/><img src=\"https://www.findthemissing.org/en/photos/thumb/30320\"/><img src=\"\"/><img src=\"https://www.findthemissing.org/en/photos/thumb/30989\"/><img src=\"https://www.findthemissing.org/en/photos/thumb/30602\"/><img src=\"https://www.findthemissing.org/en/photos/thumb/38246\"/><img src=\"https://www.findthemissing.org/en/photos/thumb/5711\"/><img src=\"https://www.findthemissing.org/en/photos/thumb/5708\"/><img src=\"https://www.findthemissing.org/en/photos/thumb/25633\"/><img src=\"https://www.findthemissing.org/en/photos/thumb/5706\"/><img src=\"https://www.findthemissing.org/en/photos/thumb/5705\"/><img src=\"https://www.findthemissing.org/en/photos/thumb/29415\"/><img src=\"https://www.findthemissing.org/en/photos/thumb/5521\"/><img src=\"http://www.missingkids.com/photographs/NCMC1207157c1t.jpg\"/><img src=\"https://www.findthemissing.org/en/photos/thumb/38862\"/><img src=\"https://www.findthemissing.org/en/photos/thumb/38858\"/><img src=\"https://www.findthemissing.org/en/photos/thumb/21925\"/><img src=\"https://www.findthemissing.org/en/photos/thumb/21917\"/><img src=\"https://www.findthemissing.org/en/photos/thumb/21901\"/><img src=\"https://www.findthemissing.org/en/photos/thumb/42742\"/><img src=\"https://www.findthemissing.org/en/photos/thumb/3818\"/><img src=\"http://www.missingkids.com/photographs/NCMC1195759c1t.jpg\"/><img src=\"https://www.findthemissing.org/en/photos/thumb/9375\"/><img src=\"http://www.missingkids.com/photographs/NCMC1228299c1t.jpg\"/><img src=\"http://www.missingkids.com/photographs/NCMC934331c1t.jpg\"/><img src=\"https://www.findthemissing.org/en/photos/thumb/12497\"/><img src=\"https://www.findthemissing.org/en/photos/thumb/25395\"/><img src=\"http://www.missingkids.com/photographs/NCMC1224569c1t.jpg\"/><img src=\"https://www.findthemissing.org/en/photos/thumb/27553\"/><img src=\"\"/><img src=\"http://www.missingkids.com/photographs/NCMC1219680c2t.jpg\"/><img src=\"https://www.findthemissing.org/en/photos/thumb/19965\"/><img src=\"\"/><img src=\"https://www.findthemissing.org/en/photos/thumb/19512\"/><img src=\"https://www.findthemissing.org/en/photos/thumb/18104\"/><img src=\"\"/><img src=\"\"/><img src=\"https://www.findthemissing.org/en/photos/thumb/15714\"/><img src=\"\"/><img src=\"https://www.findthemissing.org/en/photos/thumb/5812\"/><img src=\"http://www.missingkids.com/photographs/NCMC601797c1t.jpg\"/><img src=\"https://www.findthemissing.org/en/photos/thumb/39963\"/><img src=\"https://www.findthemissing.org/en/photos/thumb/12979\"/><img src=\"https://www.findthemissing.org/en/photos/thumb/32710\"/><img src=\"https://www.findthemissing.org/en/photos/thumb/32940\"/><img src=\"http://www.missingkids.com/photographs/NCMC868002c1t.jpg\"/><img src=\"https://www.findthemissing.org/en/photos/thumb/11602\"/><img src=\"https://www.findthemissing.org/en/photos/thumb/43254\"/><img src=\"http://www.missingkids.com/photographs/NCMC1064508c1t.jpg\"/><img src=\"\"/><img src=\"https://www.findthemissing.org/en/photos/thumb/18166\"/><img src=\"https://www.findthemissing.org/en/photos/thumb/14259\"/><img src=\"\"/><img src=\"https://www.findthemissing.org/en/photos/thumb/40992\"/><img src=\"http://www.missingkids.com/photographs/NCMC1226574c1t.jpg\"/><img src=\"https://www.findthemissing.org/en/photos/thumb/5523\"/><img src=\"http://www.missingkids.com/photographs/NCMC1046946c1t.jpg\"/><img src=\"http://www.missingkids.com/photographs/NCMC1228706c1t.jpg\"/><img src=\"https://www.findthemissing.org/en/photos/thumb/6536\"/><img src=\"https://www.findthemissing.org/en/photos/thumb/17074\"/><img src=\"http://www.missingkids.com/photographs/NCMC985024c1t.jpg\"/><img src=\"\"/><img src=\"https://www.findthemissing.org/en/photos/thumb/41615\"/><img src=\"\"/><img src=\"https://www.findthemissing.org/en/photos/thumb/3819\"/><img src=\"https://www.findthemissing.org/en/photos/thumb/5295\"/><img src=\"http://www.missingkids.com/photographs/NCMC1104022c1t.jpg\"/><img src=\"http://www.missingkids.com/photographs/NCMA1099579c1t.jpg\"/><img src=\"http://www.missingkids.com/photographs/NCMC1197896c1t.jpg\"/><img src=\"http://www.missingkids.com\"/><img src=\"https://www.findthemissing.org/en/photos/thumb/25480\"/><img src=\"http://www.missingkids.com/photographs/NCMC1222768c1t.jpg\"/><img src=\"https://www.findthemissing.org/en/photos/thumb/5235\"/><img src=\"https://www.findthemissing.org/en/photos/thumb/1504\"/><img src=\"https://www.findthemissing.org/en/photos/thumb/1505\"/><img src=\"http://www.missingkids.com/photographs/NCMC1157374c1t.jpg\"/><img src=\"https://www.findthemissing.org/en/photos/thumb/37489\"/><img src=\"\"/><img src=\"https://www.findthemissing.org/en/photos/thumb/30929\"/><img src=\"https://www.findthemissing.org/en/photos/thumb/15070\"/><img src=\"https://www.findthemissing.org/en/photos/thumb/37506\"/><img src=\"https://www.findthemissing.org/en/photos/thumb/29752\"/><img src=\"https://www.findthemissing.org/en/photos/thumb/31797\"/><img src=\"https://www.findthemissing.org/en/photos/thumb/22588\"/><img src=\"http://www.missingkids.com/photographs/NCMC1138941c1t.jpg\"/><img src=\"http://www.missingkids.com/photographs/NCMC1213484c1t.jpg\"/><img src=\"http://www.missingkids.com/photographs/NCMC740434c1t.jpg\"/><img src=\"https://www.findthemissing.org/en/photos/thumb/24892\"/><img src=\"\"/><img src=\"https://www.findthemissing.org/en/photos/thumb/39818\"/><img src=\"https://www.findthemissing.org/en/photos/thumb/25111\"/><img src=\"https://www.findthemissing.org/en/photos/thumb/24897\"/><img src=\"https://www.findthemissing.org/en/photos/thumb/12998\"/><img src=\"http://www.missingkids.com/photographs/NCMC1154334c1t.jpg\"/><img src=\"https://www.findthemissing.org/en/photos/thumb/21003\"/><img src=\"https://www.findthemissing.org/en/photos/thumb/43103\"/><img src=\"https://www.findthemissing.org/en/photos/thumb/20115\"/><img src=\"https://www.findthemissing.org/en/photos/thumb/20114\"/><img src=\"https://www.findthemissing.org/en/photos/thumb/30439\"/><img src=\"https://www.findthemissing.org/en/photos/thumb/30440\"/><img src=\"http://www.missingkids.com/photographs/NCMC1118342c1t.jpg\"/><img src=\"https://www.findthemissing.org/en/photos/thumb/28763\"/><img src=\"\"/><img src=\"\"/><img src=\"http://www.missingkids.com/photographs/NCMC1230820c1t.jpg\"/><img src=\"https://www.findthemissing.org/en/photos/thumb/20119\"/><img src=\"https://www.findthemissing.org/en/photos/thumb/30048\"/><img src=\"http://www.missingkids.com/photographs/NCMC846304c1t.jpg\"/><img src=\"http://www.missingkids.com/photographs/NCMC1164965c1t.jpg\"/><img src=\"http://www.missingkids.com/photographs/NCMC845803c1t.jpg\"/><img src=\"https://www.findthemissing.org/en/photos/thumb/6524\"/><img src=\"http://www.missingkids.com/photographs/NCMC1021806c1t.jpg\"/><img src=\"https://www.findthemissing.org/en/photos/thumb/35334\"/><img src=\"https://www.findthemissing.org/en/photos/thumb/35335\"/><img src=\"https://www.findthemissing.org/en/photos/thumb/7033\"/><img src=\"http://www.missingkids.com/photographs/NCMC1206206c3t.jpg\"/><img src=\"https://www.findthemissing.org/en/photos/thumb/31520\"/><img src=\"https://www.findthemissing.org/en/photos/thumb/17771\"/><img src=\"\"/><img src=\"https://www.findthemissing.org/en/photos/thumb/42163\"/><img src=\"https://www.findthemissing.org/en/photos/thumb/36937\"/><img src=\"https://www.findthemissing.org/en/photos/thumb/40879\"/><img src=\"http://www.missingkids.com/photographs/NCMC1211091c1t.jpg\"/><img src=\"https://www.findthemissing.org/en/photos/thumb/13370\"/><img src=\"https://www.findthemissing.org/en/photos/thumb/29865\"/><img src=\"https://www.findthemissing.org/en/photos/thumb/33916\"/><img src=\"http://www.missingkids.com/photographs/NCMC752052c1t.jpg\"/><img src=\"\"/><img src=\"https://www.findthemissing.org/en/photos/thumb/17756\"/><img src=\"\"/><img src=\"http://www.missingkids.com/photographs/NCMC1224954c1t.jpg\"/><img src=\"https://www.findthemissing.org/en/photos/thumb/18000\"/><img src=\"https://www.findthemissing.org/en/photos/thumb/40224\"/><img src=\"http://www.missingkids.com/photographs/NCMC1127297c1t.jpg\"/><img src=\"http://www.missingkids.com/photographs/NCMC1218496c1t.jpg\"/><img src=\"https://www.findthemissing.org/en/photos/thumb/40460\"/><img src=\"https://www.findthemissing.org/en/photos/thumb/10260\"/><img src=\"http://www.missingkids.com/photographs/NCMC1047798c1t.jpg\"/><img src=\"https://www.findthemissing.org/en/photos/thumb/17641\"/><img src=\"\"/><img src=\"http://www.missingkids.com/photographs/NCMC1170667c1t.jpg\"/><img src=\"http://www.missingkids.com/photographs/NCMC1225037c3t.jpg\"/><img src=\"http://www.missingkids.com/photographs/NCMA1074636c1t.jpg\"/><img src=\"http://www.missingkids.com/photographs/NCMC1187137c1t.jpg\"/><img src=\"\"/><img src=\"http://www.missingkids.com/photographs/NCMC860426c1t.jpg\"/><img src=\"https://www.findthemissing.org/en/photos/thumb/9773\"/><img src=\"http://www.missingkids.com/photographs/NCMC1223957c1t.jpg\"/><img src=\"https://www.findthemissing.org/en/photos/thumb/41816\"/><img src=\"http://www.missingkids.com/photographs/NCMC600150c1t.jpg\"/><img src=\"https://www.findthemissing.org/en/photos/thumb/16433\"/><img src=\"\"/><img src=\"https://www.findthemissing.org/en/photos/thumb/30759\"/><img src=\"https://www.findthemissing.org/en/photos/thumb/36442\"/><img src=\"\"/><img src=\"https://www.findthemissing.org/en/photos/thumb/1580\"/><img src=\"https://www.findthemissing.org/en/photos/thumb/17119\"/><img src=\"https://www.findthemissing.org/en/photos/thumb/1575\"/><img src=\"https://www.findthemissing.org/en/photos/thumb/1576\"/><img src=\"http://www.missingkids.com/photographs/NCMC1224394c1t.jpg\"/><img src=\"https://www.findthemissing.org/en/photos/thumb/30760\"/><img src=\"https://www.findthemissing.org/en/photos/thumb/1570\"/><img src=\"\"/><img src=\"http://www.missingkids.com/photographs/NCMC703577c2t.jpg\"/><img src=\"https://www.findthemissing.org/en/photos/thumb/4508\"/><img src=\"http://www.missingkids.com/photographs/NCMC966677c1t.jpg\"/><img src=\"https://www.findthemissing.org/en/photos/thumb/29519\"/><img src=\"https://www.findthemissing.org/en/photos/thumb/22957\"/><img src=\"https://www.findthemissing.org/en/photos/thumb/26994\"/><img src=\"https://www.findthemissing.org/en/photos/thumb/39380\"/><img src=\"http://www.missingkids.com/photographs/NCMC1170788c1t.jpg\"/><img src=\"http://www.missingkids.com/photographs/NCMC1191315c1t.jpg\"/><img src=\"https://www.findthemissing.org/en/photos/thumb/21612\"/><img src=\"https://www.findthemissing.org/en/photos/thumb/37852\"/><img src=\"https://www.findthemissing.org/en/photos/thumb/42359\"/><img src=\"https://www.findthemissing.org/en/photos/thumb/14206\"/><img src=\"https://www.findthemissing.org/en/photos/thumb/25995\"/><img src=\"\"/><img src=\"http://www.missingkids.com/photographs/NCMC840165c1t.jpg\"/><img src=\"https://www.findthemissing.org/en/photos/thumb/19775\"/><img src=\"http://www.missingkids.com/photographs/NCMC1221385c2t.jpg\"/><img src=\"https://www.findthemissing.org/en/photos/thumb/29947\"/><img src=\"http://www.missingkids.com/photographs/NCMC604003c1t.jpg\"/><img src=\"http://www.missingkids.com/photographs/NCMC1061732c1t.jpg\"/><img src=\"\"/><img src=\"\"/><img src=\"https://www.findthemissing.org/en/photos/thumb/10707\"/><img src=\"https://www.findthemissing.org/en/photos/thumb/41444\"/><img src=\"https://www.findthemissing.org/en/photos/thumb/10445\"/><img src=\"https://www.findthemissing.org/en/photos/thumb/42876\"/><img src=\"https://www.findthemissing.org/en/photos/thumb/15105\"/><img src=\"http://www.missingkids.com/photographs/NCMC1067299c1t.jpg\"/><img src=\"https://www.findthemissing.org/en/photos/thumb/8987\"/><img src=\"http://www.missingkids.com/photographs/NCMC1228539c1t.jpg\"/><img src=\"https://www.findthemissing.org/en/photos/thumb/1773\"/><img src=\"https://www.findthemissing.org/en/photos/thumb/35776\"/><img src=\"https://www.findthemissing.org/en/photos/thumb/14108\"/><img src=\"https://www.findthemissing.org/en/photos/thumb/43858\"/><img src=\"https://www.findthemissing.org/en/photos/thumb/43265\"/><img src=\"https://www.findthemissing.org/en/photos/thumb/24456\"/><img src=\"https://www.findthemissing.org/en/photos/thumb/24457\"/><img src=\"https://www.findthemissing.org/en/photos/thumb/24458\"/><img src=\"https://www.findthemissing.org/en/photos/thumb/5009\"/><img src=\"http://www.missingkids.com/photographs/NCMC1181382c1t.jpg\"/><img src=\"http://www.missingkids.com/photographs/NCMC1205926c1t.jpg\"/><img src=\"https://www.findthemissing.org/en/photos/thumb/28401\"/><img src=\"https://www.findthemissing.org/en/photos/thumb/34320\"/><img src=\"https://www.findthemissing.org/en/photos/thumb/25525\"/><img src=\"\"/><img src=\"http://www.missingkids.com/photographs/NCMC1229625c1t.jpg\"/><img src=\"http://www.missingkids.com/photographs/NCMA1101737c1t.jpg\"/><img src=\"https://www.findthemissing.org/en/photos/thumb/31710\"/><img src=\"https://www.findthemissing.org/en/photos/thumb/33431\"/><img src=\"https://www.findthemissing.org/en/photos/thumb/42234\"/><img src=\"https://www.findthemissing.org/en/photos/thumb/18421\"/><img src=\"\"/><img src=\"https://www.findthemissing.org/en/photos/thumb/14267\"/><img src=\"https://www.findthemissing.org/en/photos/thumb/42355\"/><img src=\"\"/><img src=\"\"/><img src=\"http://www.missingkids.com/photographs/NCMC1167814c2t.jpg\"/><img src=\"https://www.findthemissing.org/en/photos/thumb/21535\"/><img src=\"https://www.findthemissing.org/en/photos/thumb/29448\"/><img src=\"https://www.findthemissing.org/en/photos/thumb/30654\"/><img src=\"https://www.findthemissing.org/en/photos/thumb/38837\"/><img src=\"http://www.missingkids.com/photographs/NCMC1230434c1t.jpg\"/><img src=\"https://www.findthemissing.org/en/photos/thumb/37170\"/><img src=\"https://www.findthemissing.org/en/photos/thumb/17274\"/><img src=\"https://www.findthemissing.org/en/photos/thumb/17253\"/><img src=\"https://www.findthemissing.org/en/photos/thumb/5717\"/><img src=\"https://www.findthemissing.org/en/photos/thumb/17255\"/><img src=\"https://www.findthemissing.org/en/photos/thumb/17254\"/><img src=\"https://www.findthemissing.org/en/photos/thumb/5550\"/><img src=\"https://www.findthemissing.org/en/photos/thumb/15975\"/><img src=\"https://www.findthemissing.org/en/photos/thumb/42820\"/><img src=\"https://www.findthemissing.org/en/photos/thumb/29256\"/><img src=\"https://www.findthemissing.org/en/photos/thumb/40685\"/><img src=\"\"/><img src=\"http://www.missingkids.com/photographs/NCMC1229979c1t.jpg\"/><img src=\"http://www.missingkids.com/photographs/NCMC1222584c1t.jpg\"/><img src=\"https://www.findthemissing.org/en/photos/thumb/19068\"/><img src=\"https://www.findthemissing.org/en/photos/thumb/21174\"/><img src=\"http://www.missingkids.com/photographs/NCMC1093381c2t.jpg\"/><img src=\"https://www.findthemissing.org/en/photos/thumb/43613\"/><img src=\"https://www.findthemissing.org/en/photos/thumb/5695\"/><img src=\"https://www.findthemissing.org/en/photos/thumb/31766\"/><img src=\"http://www.missingkids.com/photographs/NCMC602861c1t.jpg\"/><img src=\"https://www.findthemissing.org/en/photos/thumb/5845\"/><img src=\"http://www.missingkids.com/photographs/NCMC1120799c1t.jpg\"/><img src=\"https://www.findthemissing.org/en/photos/thumb/24796\"/><img src=\"\"/><img src=\"https://www.findthemissing.org/en/photos/thumb/11655\"/><img src=\"http://www.missingkids.com/photographs/NCMC600830c1t.jpg\"/><img src=\"\"/><img src=\"\"/><img src=\"https://www.findthemissing.org/en/photos/thumb/21090\"/><img src=\"\"/><img src=\"https://www.findthemissing.org/en/photos/thumb/16214\"/><img src=\"http://www.missingkids.com/photographs/NCMC1212314c1t.jpg\"/><img src=\"https://www.findthemissing.org/en/photos/thumb/12702\"/><img src=\"http://www.missingkids.com/photographs/NCMC1223260c1t.jpg\"/><img src=\"https://www.findthemissing.org/en/photos/thumb/7271\"/><img src=\"https://www.findthemissing.org/en/photos/thumb/5619\"/><img src=\"https://www.findthemissing.org/en/photos/thumb/31596\"/><img src=\"https://www.findthemissing.org/en/photos/thumb/22330\"/><img src=\"http://www.missingkids.com/photographs/NCMC1229630c1t.jpg\"/><img src=\"https://www.findthemissing.org/en/photos/thumb/16738\"/><img src=\"https://www.findthemissing.org/en/photos/thumb/30092\"/><img src=\"https://www.findthemissing.org/en/photos/thumb/5696\"/><img src=\"https://www.findthemissing.org/en/photos/thumb/34155\"/><img src=\"\"/><img src=\"http://www.missingkids.com/photographs/NCMC1229717c1t.jpg\"/><img src=\"https://www.findthemissing.org/en/photos/thumb/7175\"/><img src=\"http://www.missingkids.com/photographs/NCMC1224347c1t.jpg\"/><img src=\"https://www.findthemissing.org/en/photos/thumb/34392\"/><img src=\"https://www.findthemissing.org/en/photos/thumb/31943\"/><img src=\"https://www.findthemissing.org/en/photos/thumb/39945\"/><img src=\"http://www.missingkids.com/photographs/NCMC955543c1t.jpg\"/><img src=\"https://www.findthemissing.org/en/photos/thumb/5437\"/><img src=\"https://www.findthemissing.org/en/photos/thumb/15053\"/><img src=\"http://www.missingkids.com/photographs/NCMC604335c1t.jpg\"/><img src=\"\"/><img src=\"http://www.missingkids.com/photographs/NCMC1177142c1t.jpg\"/><img src=\"http://www.missingkids.com/photographs/NCMA1182092c1t.jpg\"/><img src=\"https://www.findthemissing.org/en/photos/thumb/5292\"/><img src=\"https://www.findthemissing.org/en/photos/thumb/14489\"/><img src=\"http://www.missingkids.com/photographs/NCMC1180655c3t.jpg\"/><img src=\"http://www.missingkids.com/photographs/NCMC1229923c1t.jpg\"/><img src=\"https://www.findthemissing.org/en/photos/thumb/40890\"/><img src=\"\"/><img src=\"\"/><img src=\"https://www.findthemissing.org/en/photos/thumb/1546\"/><img src=\"https://www.findthemissing.org/en/photos/thumb/1545\"/><img src=\"https://www.findthemissing.org/en/photos/thumb/1543\"/><img src=\"https://www.findthemissing.org/en/photos/thumb/1540\"/><img src=\"https://www.findthemissing.org/en/photos/thumb/1539\"/><img src=\"https://www.findthemissing.org/en/photos/thumb/31162\"/><img src=\"https://www.findthemissing.org/en/photos/thumb/31240\"/><img src=\"https://www.findthemissing.org/en/photos/thumb/31779\"/><img src=\"https://www.findthemissing.org/en/photos/thumb/15555\"/><img src=\"https://www.findthemissing.org/en/photos/thumb/43583\"/><img src=\"https://www.findthemissing.org/en/photos/thumb/32352\"/><img src=\"http://www.missingkids.com/photographs/NCMC812356c1t.jpg\"/><img src=\"http://www.missingkids.com/photographs/NCMC721129c1t.jpg\"/><img src=\"https://www.findthemissing.org/en/photos/thumb/20688\"/><img src=\"http://www.missingkids.com/photographs/NCMC1215557c1t.jpg\"/><img src=\"https://www.findthemissing.org/en/photos/thumb/5466\"/><img src=\"\"/><img src=\"https://www.findthemissing.org/en/photos/thumb/29673\"/><img src=\"https://www.findthemissing.org/en/photos/thumb/29672\"/><img src=\"https://www.findthemissing.org/en/photos/thumb/39361\"/><img src=\"\"/><img src=\"https://www.findthemissing.org/en/photos/thumb/43127\"/><img src=\"\"/><img src=\"https://www.findthemissing.org/en/photos/thumb/20945\"/><img src=\"https://www.findthemissing.org/en/photos/thumb/30802\"/><img src=\"https://www.findthemissing.org/en/photos/thumb/39761\"/><img src=\"https://www.findthemissing.org/en/photos/thumb/15550\"/><img src=\"http://www.missingkids.com/photographs/NCMC1140793c1t.jpg\"/><img src=\"http://www.missingkids.com/photographs/NCMC833807c1t.jpg\"/><img src=\"http://www.missingkids.com/photographs/NCMC1161746c1t.jpg\"/><img src=\"http://www.missingkids.com/photographs/NCMC1230818c1t.jpg\"/><img src=\"http://www.missingkids.com/photographs/NCMA1062418c1t.jpg\"/><img src=\"https://www.findthemissing.org/en/photos/thumb/24468\"/><img src=\"http://www.missingkids.com/photographs/NCMC755358c2t.jpg\"/><img src=\"\"/><img src=\"http://www.missingkids.com/photographs/NCMC1224355c1t.jpg\"/><img src=\"\"/><img src=\"http://www.missingkids.com/photographs/NCMC1113533c1t.jpg\"/><img src=\"https://www.findthemissing.org/en/photos/thumb/5588\"/><img src=\"\"/><img src=\"http://www.missingkids.com/photographs/NCMC1129016c1t.jpg\"/><img src=\"http://www.missingkids.com/photographs/NCMC1226150c2t.jpg\"/><img src=\"https://www.findthemissing.org/en/photos/thumb/18608\"/><img src=\"https://www.findthemissing.org/en/photos/thumb/15971\"/><img src=\"http://www.missingkids.com/photographs/NCMC987412c1t.jpg\"/><img src=\"https://www.findthemissing.org/en/photos/thumb/352\"/><img src=\"https://www.findthemissing.org/en/photos/thumb/16487\"/><img src=\"http://www.missingkids.com/photographs/NCMC890449c1t.jpg\"/><img src=\"https://www.findthemissing.org/en/photos/thumb/27140\"/><img src=\"https://www.findthemissing.org/en/photos/thumb/17368\"/><img src=\"http://www.missingkids.com/photographs/NCMC717172c1t.jpg\"/><img src=\"https://www.findthemissing.org/en/photos/thumb/5701\"/><img src=\"\"/><img src=\"\"/><img src=\"https://www.findthemissing.org/en/photos/thumb/30782\"/><img src=\"https://www.findthemissing.org/en/photos/thumb/5692\"/><img src=\"\"/><img src=\"https://www.findthemissing.org/en/photos/thumb/19304\"/><img src=\"\"/><img src=\"https://www.findthemissing.org/en/photos/thumb/21488\"/><img src=\"https://www.findthemissing.org/en/photos/thumb/21486\"/><img src=\"http://www.missingkids.com/photographs/NCMC849820c1t.jpg\"/><img src=\"http://www.missingkids.com/photographs/NCMC1224958c1t.jpg\"/><img src=\"https://www.findthemissing.org/en/photos/thumb/26301\"/><img src=\"http://www.missingkids.com/photographs/NCMC908585c1t.jpg\"/><img src=\"https://www.findthemissing.org/en/photos/thumb/4523\"/><img src=\"\"/><img src=\"https://www.findthemissing.org/en/photos/thumb/30808\"/><img src=\"https://www.findthemissing.org/en/photos/thumb/1156\"/><img src=\"https://www.findthemissing.org/en/photos/thumb/20429\"/><img src=\"https://www.findthemissing.org/en/photos/thumb/21164\"/><img src=\"http://www.missingkids.com/photographs/NCMC1120672c1t.jpg\"/><img src=\"https://www.findthemissing.org/en/photos/thumb/27713\"/><img src=\"http://www.missingkids.com/photographs/NCMC844683c1t.jpg\"/><img src=\"\"/><img src=\"http://www.missingkids.com/photographs/NCMC1120176c1t.jpg\"/><img src=\"https://www.findthemissing.org/en/photos/thumb/7147\"/><img src=\"https://www.findthemissing.org/en/photos/thumb/38838\"/><img src=\"https://www.findthemissing.org/en/photos/thumb/27717\"/><img src=\"http://www.missingkids.com/photographs/NCMC945542c1t.jpg\"/><img src=\"http://www.missingkids.com/photographs/NCMC1191632c1t.jpg\"/><img src=\"https://www.findthemissing.org/en/photos/thumb/34150\"/><img src=\"http://www.missingkids.com/photographs/NCMC1154790c1t.jpg\"/><img src=\"https://www.findthemissing.org/en/photos/thumb/13456\"/><img src=\"http://www.missingkids.com/photographs/NCMC1227962c1t.jpg\"/><img src=\"https://www.findthemissing.org/en/photos/thumb/31601\"/><img src=\"http://www.missingkids.com/photographs/NCMC1167240c1t.jpg\"/><img src=\"http://www.missingkids.com/photographs/NCMC1057960c1t.jpg\"/><img src=\"https://www.findthemissing.org/en/photos/thumb/3898\"/><img src=\"http://www.missingkids.com/photographs/NCMC1228929c1t.jpg\"/><img src=\"https://www.findthemissing.org/en/photos/thumb/16649\"/><img src=\"https://www.findthemissing.org/en/photos/thumb/29427\"/><img src=\"https://www.findthemissing.org/en/photos/thumb/29424\"/><img src=\"https://www.findthemissing.org/en/photos/thumb/29425\"/><img src=\"https://www.findthemissing.org/en/photos/thumb/31455\"/><img src=\"https://www.findthemissing.org/en/photos/thumb/17153\"/><img src=\"http://www.missingkids.com/photographs/NCMC1204803c1t.jpg\"/><img src=\"http://www.missingkids.com/photographs/NCMC1212603c1t.jpg\"/><img src=\"https://www.findthemissing.org/en/photos/thumb/21222\"/><img src=\"http://www.missingkids.com/photographs/NCMC1178299c1t.jpg\"/><img src=\"http://www.missingkids.com/photographs/NCMC1217206c1t.jpg\"/><img src=\"https://www.findthemissing.org/en/photos/thumb/5501\"/><img src=\"\"/><img src=\"https://www.findthemissing.org/en/photos/thumb/29830\"/><img src=\"https://www.findthemissing.org/en/photos/thumb/5493\"/><img src=\"http://www.missingkids.com/photographs/NCMC1219857c1t.jpg\"/><img src=\"https://www.findthemissing.org/en/photos/thumb/4576\"/><img src=\"\"/><img src=\"http://www.missingkids.com/photographs/NCMC1134123c1t.jpg\"/><img src=\"\"/><img src=\"https://www.findthemissing.org/en/photos/thumb/15826\"/><img src=\"\"/><img src=\"http://www.missingkids.com/photographs/NCMC1121252c1t.jpg\"/><img src=\"https://www.findthemissing.org/en/photos/thumb/39976\"/><img src=\"\"/><img src=\"http://www.missingkids.com/photographs/NCMC1231063c1t.jpg\"/><img src=\"https://www.findthemissing.org/en/photos/thumb/25422\"/><img src=\"https://www.findthemissing.org/en/photos/thumb/15351\"/><img src=\"https://www.findthemissing.org/en/photos/thumb/15326\"/><img src=\"https://www.findthemissing.org/en/photos/thumb/32711\"/><img src=\"\"/><img src=\"https://www.findthemissing.org/en/photos/thumb/30291\"/><img src=\"https://www.findthemissing.org/en/photos/thumb/16254\"/><img src=\"http://www.missingkids.com/photographs/NCMC1211667c1t.jpg\"/><img src=\"https://www.findthemissing.org/en/photos/thumb/16736\"/><img src=\"https://www.findthemissing.org/en/photos/thumb/5747\"/><img src=\"http://www.missingkids.com/photographs/NCMA1042979c1t.jpg\"/><img src=\"https://www.findthemissing.org/en/photos/thumb/35738\"/><img src=\"http://www.missingkids.com/photographs/NCMC601850c1t.jpg\"/><img src=\"http://www.missingkids.com/photographs/NCMC861376c1t.jpg\"/><img src=\"https://www.findthemissing.org/en/photos/thumb/21340\"/><img src=\"http://www.missingkids.com/photographs/NCMC903108c1t.jpg\"/><img src=\"https://www.findthemissing.org/en/photos/thumb/19959\"/><img src=\"https://www.findthemissing.org/en/photos/thumb/31449\"/><img src=\"https://www.findthemissing.org/en/photos/thumb/31518\"/><img src=\"http://www.missingkids.com/photographs/NCMC1199440c1t.jpg\"/><img src=\"https://www.findthemissing.org/en/photos/thumb/31448\"/><img src=\"\"/><img src=\"http://www.missingkids.com/photographs/NCMC927849c1t.jpg\"/><img src=\"https://www.findthemissing.org/en/photos/thumb/12088\"/><img src=\"https://www.findthemissing.org/en/photos/thumb/16659\"/><img src=\"https://www.findthemissing.org/en/photos/thumb/14261\"/><img src=\"http://www.missingkids.com/photographs/NCMC776935c1t.jpg\"/><img src=\"http://www.missingkids.com/photographs/NCMC1179817c1t.jpg\"/><img src=\"https://www.findthemissing.org/en/photos/thumb/38052\"/><img src=\"https://www.findthemissing.org/en/photos/thumb/41591\"/><img src=\"https://www.findthemissing.org/en/photos/thumb/17043\"/><img src=\"http://www.missingkids.com/photographs/NCMC1229990c1t.jpg\"/><img src=\"http://www.missingkids.com/photographs/NCMC1229587c1t.jpg\"/><img src=\"https://www.findthemissing.org/en/photos/thumb/19901\"/><img src=\"http://www.missingkids.com/photographs/NCMC1217678c1t.jpg\"/><img src=\"https://www.findthemissing.org/en/photos/thumb/38218\"/><img src=\"http://www.missingkids.com/photographs/NCMC1123204c1t.jpg\"/><img src=\"https://www.findthemissing.org/en/photos/thumb/850\"/><img src=\"https://www.findthemissing.org/en/photos/thumb/5675\"/><img src=\"https://www.findthemissing.org/en/photos/thumb/24671\"/><img src=\"http://www.missingkids.com/photographs/NCMC933919c1t.jpg\"/><img src=\"http://www.missingkids.com/photographs/NCMC1229200c1t.jpg\"/><img src=\"https://www.findthemissing.org/en/photos/thumb/24669\"/><img src=\"https://www.findthemissing.org/en/photos/thumb/5683\"/><img src=\"https://www.findthemissing.org/en/photos/thumb/5682\"/><img src=\"https://www.findthemissing.org/en/photos/thumb/32789\"/><img src=\"https://www.findthemissing.org/en/photos/thumb/5685\"/><img src=\"http://www.missingkids.com/photographs/NCMC876128c1t.jpg\"/><img src=\"https://www.findthemissing.org/en/photos/thumb/13912\"/><img src=\"https://www.findthemissing.org/en/photos/thumb/5578\"/><img src=\"https://www.findthemissing.org/en/photos/thumb/15268\"/><img src=\"http://www.missingkids.com/photographs/NCMC1230810c1t.jpg\"/><img src=\"http://www.missingkids.com/photographs/NCMC869504c1t.jpg\"/><img src=\"https://www.findthemissing.org/en/photos/thumb/5851\"/><img src=\"https://www.findthemissing.org/en/photos/thumb/35613\"/><img src=\"https://www.findthemissing.org/en/photos/thumb/31201\"/><img src=\"https://www.findthemissing.org/en/photos/thumb/15725\"/><img src=\"https://www.findthemissing.org/en/photos/thumb/30894\"/><img src=\"https://www.findthemissing.org/en/photos/thumb/30895\"/><img src=\"http://www.missingkids.com/photographs/NCMC1098600c2t.jpg\"/><img src=\"https://www.findthemissing.org/en/photos/thumb/15767\"/><img src=\"https://www.findthemissing.org/en/photos/thumb/6154\"/><img src=\"https://www.findthemissing.org/en/photos/thumb/15881\"/><img src=\"https://www.findthemissing.org/en/photos/thumb/28419\"/><img src=\"\"/><img src=\"https://www.findthemissing.org/en/photos/thumb/43580\"/><img src=\"\"/><img src=\"https://www.findthemissing.org/en/photos/thumb/24485\"/><img src=\"https://www.findthemissing.org/en/photos/thumb/15866\"/><img src=\"\"/><img src=\"http://www.missingkids.com/photographs/NCMC745376c1t.jpg\"/><img src=\"https://www.findthemissing.org/en/photos/thumb/14302\"/><img src=\"https://www.findthemissing.org/en/photos/thumb/32642\"/><img src=\"https://www.findthemissing.org/en/photos/thumb/21072\"/><img src=\"\"/><img src=\"https://www.findthemissing.org/en/photos/thumb/18426\"/><img src=\"\"/><img src=\"https://www.findthemissing.org/en/photos/thumb/34487\"/><img src=\"https://www.findthemissing.org/en/photos/thumb/42388\"/><img src=\"https://www.findthemissing.org/en/photos/thumb/30151\"/><img src=\"https://www.findthemissing.org/en/photos/thumb/36676\"/><img src=\"http://www.missingkids.com/photographs/NCMC779565c1t.jpg\"/><img src=\"http://www.missingkids.com/photographs/NCMC959102c1t.jpg\"/><img src=\"\"/><img src=\"http://www.missingkids.com/photographs/NCMC604156c1t.jpg\"/><img src=\"http://www.missingkids.com/photographs/NCMC1228878c1t.jpg\"/><img src=\"https://www.findthemissing.org/en/photos/thumb/16275\"/><img src=\"https://www.findthemissing.org/en/photos/thumb/31926\"/><img src=\"https://www.findthemissing.org/en/photos/thumb/5404\"/><img src=\"http://www.missingkids.com/photographs/NCMC1190960c1t.jpg\"/><img src=\"http://www.missingkids.com/photographs/NCMC1219680ac1t.jpg\"/><img src=\"https://www.findthemissing.org/en/photos/thumb/38657\"/><img src=\"http://www.missingkids.com/photographs/NCMC1059822c1t.jpg\"/><img src=\"https://www.findthemissing.org/en/photos/thumb/11901\"/><img src=\"https://www.findthemissing.org/en/photos/thumb/41249\"/><img src=\"https://www.findthemissing.org/en/photos/thumb/33442\"/><img src=\"\"/><img src=\"https://www.findthemissing.org/en/photos/thumb/40846\"/><img src=\"https://www.findthemissing.org/en/photos/thumb/23553\"/><img src=\"https://www.findthemissing.org/en/photos/thumb/40040\"/><img src=\"http://www.missingkids.com/photographs/NCMC981776c1t.jpg\"/><img src=\"https://www.findthemissing.org/en/photos/thumb/5805\"/><img src=\"https://www.findthemissing.org/en/photos/thumb/17536\"/><img src=\"http://www.missingkids.com/photographs/NCMC1224636c1t.jpg\"/><img src=\"https://www.findthemissing.org/en/photos/thumb/37637\"/><img src=\"https://www.findthemissing.org/en/photos/thumb/27409\"/><img src=\"http://www.missingkids.com/photographs/NCMC1227177c1t.jpg\"/><img src=\"http://www.missingkids.com/photographs/NCMC1213227c1t.jpg\"/><img src=\"http://www.missingkids.com/photographs/NCMC772218c1t.jpg\"/><img src=\"https://www.findthemissing.org/en/photos/thumb/15957\"/><img src=\"https://www.findthemissing.org/en/photos/thumb/35445\"/><img src=\"https://www.findthemissing.org/en/photos/thumb/35300\"/><img src=\"https://www.findthemissing.org/en/photos/thumb/42887\"/><img src=\"http://www.missingkids.com/photographs/NCMC982363c1t.jpg\"/><img src=\"https://www.findthemissing.org/en/photos/thumb/27798\"/><img src=\"https://www.findthemissing.org/en/photos/thumb/27792\"/><img src=\"https://www.findthemissing.org/en/photos/thumb/23445\"/><img src=\"http://www.missingkids.com/photographs/NCMC1218566c1t.jpg\"/><img src=\"https://www.findthemissing.org/en/photos/thumb/17957\"/><img src=\"https://www.findthemissing.org/en/photos/thumb/16056\"/><img src=\"https://www.findthemissing.org/en/photos/thumb/29630\"/><img src=\"http://www.missingkids.com/photographs/NCMC1182870c1t.jpg\"/><img src=\"\"/><img src=\"http://www.missingkids.com/photographs/NCMC767759c1t.jpg\"/><img src=\"https://www.findthemissing.org/en/photos/thumb/1335\"/><img src=\"https://www.findthemissing.org/en/photos/thumb/36245\"/><img src=\"https://www.findthemissing.org/en/photos/thumb/43\"/><img src=\"https://www.findthemissing.org/en/photos/thumb/44\"/><img src=\"http://www.missingkids.com/photographs/NCMC1222043c1t.jpg\"/><img src=\"http://www.missingkids.com/photographs/NCMC1228007c1t.jpg\"/><img src=\"https://www.findthemissing.org/en/photos/thumb/1583\"/><img src=\"https://www.findthemissing.org/en/photos/thumb/1582\"/><img src=\"https://www.findthemissing.org/en/photos/thumb/39078\"/><img src=\"https://www.findthemissing.org/en/photos/thumb/30495\"/><img src=\"https://www.findthemissing.org/en/photos/thumb/43059\"/><img src=\"https://www.findthemissing.org/en/photos/thumb/1586\"/><img src=\"https://www.findthemissing.org/en/photos/thumb/38324\"/><img src=\"https://www.findthemissing.org/en/photos/thumb/2066\"/><img src=\"https://www.findthemissing.org/en/photos/thumb/1597\"/><img src=\"https://www.findthemissing.org/en/photos/thumb/17121\"/><img src=\"https://www.findthemissing.org/en/photos/thumb/31071\"/><img src=\"http://www.missingkids.com/photographs/NCMC1188405c1t.jpg\"/><img src=\"http://www.missingkids.com/photographs/NCMC1136535c2t.jpg\"/><img src=\"https://www.findthemissing.org/en/photos/thumb/39688\"/><img src=\"http://www.missingkids.com/photographs/NCMC1229025c1t.jpg\"/><img src=\"http://www.missingkids.com/photographs/NCMC924021c1t.jpg\"/><img src=\"\"/><img src=\"\"/><img src=\"\"/><img src=\"https://www.findthemissing.org/en/photos/thumb/42283\"/><img src=\"https://www.findthemissing.org/en/photos/thumb/26343\"/><img src=\"http://www.missingkids.com/photographs/NCMC1224804c1t.jpg\"/><img src=\"https://www.findthemissing.org/en/photos/thumb/41764\"/><img src=\"https://www.findthemissing.org/en/photos/thumb/24467\"/><img src=\"https://www.findthemissing.org/en/photos/thumb/26440\"/><img src=\"http://www.missingkids.com/photographs/NCMC1142417c2t.jpg\"/><img src=\"https://www.findthemissing.org/en/photos/thumb/29974\"/><img src=\"http://www.missingkids.com/photographs/NCMC1220765c2t.jpg\"/><img src=\"https://www.findthemissing.org/en/photos/thumb/34592\"/><img src=\"https://www.findthemissing.org/en/photos/thumb/5524\"/><img src=\"http://www.missingkids.com/photographs/NCMC1220345c1t.jpg\"/><img src=\"https://www.findthemissing.org/en/photos/thumb/10054\"/><img src=\"https://www.findthemissing.org/en/photos/thumb/1697\"/><img src=\"https://www.findthemissing.org/en/photos/thumb/26288\"/><img src=\"https://www.findthemissing.org/en/photos/thumb/1699\"/><img src=\"https://www.findthemissing.org/en/photos/thumb/1692\"/><img src=\"http://www.missingkids.com/photographs/NCMC1192501c1t.jpg\"/><img src=\"https://www.findthemissing.org/en/photos/thumb/26406\"/><img src=\"https://www.findthemissing.org/en/photos/thumb/41433\"/><img src=\"\"/><img src=\"https://www.findthemissing.org/en/photos/thumb/1753\"/><img src=\"https://www.findthemissing.org/en/photos/thumb/1701\"/><img src=\"https://www.findthemissing.org/en/photos/thumb/16191\"/><img src=\"https://www.findthemissing.org/en/photos/thumb/1741\"/><img src=\"https://www.findthemissing.org/en/photos/thumb/14158\"/><img src=\"http://www.missingkids.com/photographs/NCMC1097442c1t.jpg\"/><img src=\"https://www.findthemissing.org/en/photos/thumb/35638\"/><img src=\"\"/><img src=\"https://www.findthemissing.org/en/photos/thumb/14228\"/><img src=\"https://www.findthemissing.org/en/photos/thumb/44049\"/><img src=\"http://www.missingkids.com/photographs/NCMC1228701c1t.jpg\"/><img src=\"\"/><img src=\"https://www.findthemissing.org/en/photos/thumb/17794\"/><img src=\"http://www.missingkids.com/photographs/NCMC1192508c1t.jpg\"/><img src=\"https://www.findthemissing.org/en/photos/thumb/14163\"/><img src=\"https://www.findthemissing.org/en/photos/thumb/36322\"/><img src=\"http://www.missingkids.com/photographs/NCMC1221385ac2t.jpg\"/><img src=\"http://www.missingkids.com/photographs/NCMC603368c1t.jpg\"/><img src=\"https://www.findthemissing.org/en/photos/thumb/9059\"/><img src=\"\"/><img src=\"https://www.findthemissing.org/en/photos/thumb/20622\"/><img src=\"http://www.missingkids.com/photographs/NCMC1190126c1t.jpg\"/><img src=\"http://www.missingkids.com/photographs/NCMC1056067c4t.jpg\"/><img src=\"http://www.missingkids.com/photographs/NCMC841504c1t.jpg\"/><img src=\"http://www.missingkids.com/photographs/NCMC1130519c1t.jpg\"/><img src=\"https://www.findthemissing.org/en/photos/thumb/21560\"/><img src=\"https://www.findthemissing.org/en/photos/thumb/21559\"/><img src=\"http://www.missingkids.com/photographs/NCMC737294c1t.jpg\"/><img src=\"https://www.findthemissing.org/en/photos/thumb/5728\"/><img src=\"http://www.missingkids.com/photographs/NCMC1226092c1t.jpg\"/><img src=\"https://www.findthemissing.org/en/photos/thumb/38292\"/><img src=\"\"/><img src=\"http://www.missingkids.com/photographs/NCMC1051220c1t.jpg\"/><img src=\"https://www.findthemissing.org/en/photos/thumb/7392\"/><img src=\"https://www.findthemissing.org/en/photos/thumb/5592\"/><img src=\"\"/><img src=\"https://www.findthemissing.org/en/photos/thumb/41382\"/><img src=\"https://www.findthemissing.org/en/photos/thumb/43626\"/><img src=\"https://www.findthemissing.org/en/photos/thumb/13246\"/><img src=\"http://www.missingkids.com/photographs/NCMC1176716c1t.jpg\"/><img src=\"https://www.findthemissing.org/en/photos/thumb/26342\"/><img src=\"\"/><img src=\"http://www.missingkids.com/photographs/NCMC1111725c1t.jpg\"/><img src=\"http://www.missingkids.com/photographs/NCMC1228174c1t.jpg\"/><img src=\"\"/><img src=\"https://www.findthemissing.org/en/photos/thumb/30899\"/><img src=\"https://www.findthemissing.org/en/photos/thumb/20230\"/><img src=\"https://www.findthemissing.org/en/photos/thumb/35788\"/><img src=\"https://www.findthemissing.org/en/photos/thumb/11994\"/><img src=\"https://www.findthemissing.org/en/photos/thumb/31996\"/><img src=\"\"/><img src=\"\"/><img src=\"http://www.missingkids.com/photographs/NCMC800711c1t.jpg\"/><img src=\"http://www.missingkids.com/photographs/NCMC1145681c3t.jpg\"/><img src=\"https://www.findthemissing.org/en/photos/thumb/30367\"/><img src=\"https://www.findthemissing.org/en/photos/thumb/427\"/><img src=\"https://www.findthemissing.org/en/photos/thumb/20008\"/><img src=\"http://www.missingkids.com/photographs/NCMC762587c1t.jpg\"/><img src=\"https://www.findthemissing.org/en/photos/thumb/20004\"/><img src=\"https://www.findthemissing.org/en/photos/thumb/22460\"/><img src=\"http://www.missingkids.com/photographs/NCMC863655c1t.jpg\"/><img src=\"https://www.findthemissing.org/en/photos/thumb/5314\"/><img src=\"https://www.findthemissing.org/en/photos/thumb/30834\"/><img src=\"https://www.findthemissing.org/en/photos/thumb/30842\"/><img src=\"\"/><img src=\"https://www.findthemissing.org/en/photos/thumb/30828\"/><img src=\"http://www.missingkids.com/photographs/NCMC1139720c1t.jpg\"/><img src=\"http://www.missingkids.com/photographs/NCMC1058734c1t.jpg\"/><img src=\"https://www.findthemissing.org/en/photos/thumb/5444\"/><img src=\"http://www.missingkids.com/photographs/NCMC1201766c4t.jpg\"/><img src=\"https://www.findthemissing.org/en/photos/thumb/20466\"/><img src=\"https://www.findthemissing.org/en/photos/thumb/31461\"/><img src=\"http://www.missingkids.com/photographs/NCMC1226539c1t.jpg\"/><img src=\"https://www.findthemissing.org/en/photos/thumb/33490\"/><img src=\"https://www.findthemissing.org/en/photos/thumb/13084\"/><img src=\"https://www.findthemissing.org/en/photos/thumb/13085\"/><img src=\"\"/><img src=\"https://www.findthemissing.org/en/photos/thumb/13083\"/><img src=\"https://www.findthemissing.org/en/photos/thumb/39151\"/><img src=\"https://www.findthemissing.org/en/photos/thumb/7379\"/><img src=\"http://www.missingkids.com/photographs/NCMA991788c1t.jpg\"/><img src=\"https://www.findthemissing.org/en/photos/thumb/1529\"/><img src=\"https://www.findthemissing.org/en/photos/thumb/1530\"/><img src=\"https://www.findthemissing.org/en/photos/thumb/39136\"/><img src=\"http://www.missingkids.com/photographs/NCMC1224639c1t.jpg\"/><img src=\"https://www.findthemissing.org/en/photos/thumb/36971\"/><img src=\"https://www.findthemissing.org/en/photos/thumb/1536\"/><img src=\"https://www.findthemissing.org/en/photos/thumb/14487\"/><img src=\"https://www.findthemissing.org/en/photos/thumb/24466\"/><img src=\"http://www.missingkids.com/photographs/NCMC1230609c1t.jpg\"/><img src=\"https://www.findthemissing.org/en/photos/thumb/14983\"/><img src=\"https://www.findthemissing.org/en/photos/thumb/37521\"/><img src=\"https://www.findthemissing.org/en/photos/thumb/42789\"/><img src=\"http://www.missingkids.com/photographs/NCMC1152797c1t.jpg\"/><img src=\"https://www.findthemissing.org/en/photos/thumb/24841\"/><img src=\"https://www.findthemissing.org/en/photos/thumb/33994\"/><img src=\"https://www.findthemissing.org/en/photos/thumb/3197\"/><img src=\"https://www.findthemissing.org/en/photos/thumb/10299\"/><img src=\"https://www.findthemissing.org/en/photos/thumb/23941\"/><img src=\"http://www.missingkids.com/photographs/NCMC1209242c1t.jpg\"/><img src=\"\"/><img src=\"https://www.findthemissing.org/en/photos/thumb/29689\"/><img src=\"https://www.findthemissing.org/en/photos/thumb/29684\"/><img src=\"https://www.findthemissing.org/en/photos/thumb/4050\"/><img src=\"https://www.findthemissing.org/en/photos/thumb/23532\"/><img src=\"https://www.findthemissing.org/en/photos/thumb/30357\"/><img src=\"http://www.missingkids.com/photographs/NCMC1217236c2t.jpg\"/><img src=\"https://www.findthemissing.org/en/photos/thumb/30365\"/><img src=\"https://www.findthemissing.org/en/photos/thumb/5300\"/><img src=\"http://www.missingkids.com/photographs/NCMC600782c1t.jpg\"/><img src=\"https://www.findthemissing.org/en/photos/thumb/16471\"/><img src=\"https://www.findthemissing.org/en/photos/thumb/37370\"/><img src=\"https://www.findthemissing.org/en/photos/thumb/29881\"/><img src=\"http://www.missingkids.com/photographs/NCMC950581c1t.jpg\"/><img src=\"https://www.findthemissing.org/en/photos/thumb/24209\"/><img src=\"http://www.missingkids.com/photographs/NCMC1167587c3t.jpg\"/><img src=\"http://www.missingkids.com/photographs/NCMC1226939c1t.jpg\"/><img src=\"http://www.missingkids.com/photographs/NCMC780684c1t.jpg\"/><img src=\"https://www.findthemissing.org/en/photos/thumb/30987\"/><img src=\"https://www.findthemissing.org/en/photos/thumb/37960\"/><img src=\"http://www.missingkids.com/photographs/NCMC794352c1t.jpg\"/><img src=\"http://www.missingkids.com/photographs/NCMC1230994c1t.jpg\"/><img src=\"http://www.missingkids.com/photographs/NCMC1039820c2t.jpg\"/><img src=\"\"/><img src=\"http://www.missingkids.com/photographs/NCMC604481c1t.jpg\"/><img src=\"https://www.findthemissing.org/en/photos/thumb/17371\"/><img src=\"http://www.missingkids.com/photographs/NCMC827758c1t.jpg\"/><img src=\"https://www.findthemissing.org/en/photos/thumb/35077\"/><img src=\"\"/><img src=\"https://www.findthemissing.org/en/photos/thumb/35085\"/><img src=\"http://www.missingkids.com/photographs/NCMC1100737c1t.jpg\"/><img src=\"https://www.findthemissing.org/en/photos/thumb/36571\"/><img src=\"https://www.findthemissing.org/en/photos/thumb/27287\"/><img src=\"\"/><img src=\"https://www.findthemissing.org/en/photos/thumb/39089\"/><img src=\"\"/><img src=\"http://www.missingkids.com/photographs/NCMC1003877c3t.jpg\"/><img src=\"http://www.missingkids.com/photographs/NCMC706857c1t.jpg\"/><img src=\"http://www.missingkids.com/photographs/NCMC1172865c1t.jpg\"/><img src=\"http://www.missingkids.com/photographs/NCMC820053c1t.jpg\"/><img src=\"https://www.findthemissing.org/en/photos/thumb/36438\"/><img src=\"\"/><img src=\"http://www.missingkids.com/photographs/NCMC603385c1t.jpg\"/><img src=\"https://www.findthemissing.org/en/photos/thumb/19182\"/><img src=\"https://www.findthemissing.org/en/photos/thumb/9835\"/><img src=\"http://www.missingkids.com/photographs/NCMC1066151c1t.jpg\"/><img src=\"https://www.findthemissing.org/en/photos/thumb/36596\"/><img src=\"https://www.findthemissing.org/en/photos/thumb/32494\"/><img src=\"https://www.findthemissing.org/en/photos/thumb/9882\"/><img src=\"\"/><img src=\"https://www.findthemissing.org/en/photos/thumb/42435\"/><img src=\"https://www.findthemissing.org/en/photos/thumb/18745\"/><img src=\"\"/><img src=\"https://www.findthemissing.org/en/photos/thumb/15502\"/><img src=\"\"/><img src=\"https://www.findthemissing.org/en/photos/thumb/7167\"/><img src=\"https://www.findthemissing.org/en/photos/thumb/24465\"/><img src=\"http://www.missingkids.com/photographs/NCMC1171226c1t.jpg\"/><img src=\"\"/><img src=\"\"/><img src=\"http://www.missingkids.com/photographs/NCMC1158702c1t.jpg\"/><img src=\"https://www.findthemissing.org/en/photos/thumb/23722\"/><img src=\"http://www.missingkids.com/photographs/NCMC946242c1t.jpg\"/><img src=\"https://www.findthemissing.org/en/photos/thumb/31182\"/><img src=\"http://www.missingkids.com/photographs/NCMC1007022c2t.jpg\"/><img src=\"https://www.findthemissing.org/en/photos/thumb/33380\"/><img src=\"https://www.findthemissing.org/en/photos/thumb/30809\"/><img src=\"https://www.findthemissing.org/en/photos/thumb/13509\"/><img src=\"https://www.findthemissing.org/en/photos/thumb/1601\"/><img src=\"https://www.findthemissing.org/en/photos/thumb/1602\"/><img src=\"https://www.findthemissing.org/en/photos/thumb/31592\"/><img src=\"\"/><img src=\"http://www.missingkids.com/photographs/NCMC882726c1t.jpg\"/><img src=\"https://www.findthemissing.org/en/photos/thumb/31587\"/><img src=\"https://www.findthemissing.org/en/photos/thumb/28040\"/><img src=\"https://www.findthemissing.org/en/photos/thumb/30633\"/><img src=\"http://www.missingkids.com/photographs/NCMC1230898c1t.jpg\"/><img src=\"https://www.findthemissing.org/en/photos/thumb/30621\"/><img src=\"http://www.missingkids.com/photographs/NCMC706544c1t.jpg\"/><img src=\"\"/><img src=\"http://www.missingkids.com/photographs/NCMC1229051c1t.jpg\"/><img src=\"\"/><img src=\"http://www.missingkids.com/photographs/NCMC1015352c2t.jpg\"/><img src=\"https://www.findthemissing.org/en/photos/thumb/36963\"/><img src=\"https://www.findthemissing.org/en/photos/thumb/39383\"/><img src=\"\"/><img src=\"https://www.findthemissing.org/en/photos/thumb/31406\"/><img src=\"https://www.findthemissing.org/en/photos/thumb/3844\"/><img src=\"https://www.findthemissing.org/en/photos/thumb/36677\"/><img src=\"\"/><img src=\"http://www.missingkids.com/photographs/NCMC1075813c1t.jpg\"/><img src=\"https://www.findthemissing.org/en/photos/thumb/14714\"/><img src=\"https://www.findthemissing.org/en/photos/thumb/15416\"/><img src=\"https://www.findthemissing.org/en/photos/thumb/42286\"/><img src=\"https://www.findthemissing.org/en/photos/thumb/20686\"/><img src=\"http://www.missingkids.com/photographs/NCMC915162c1t.jpg\"/><img src=\"https://www.findthemissing.org/en/photos/thumb/31770\"/><img src=\"http://www.missingkids.com/photographs/NCMC976797c3t.jpg\"/><img src=\"https://www.findthemissing.org/en/photos/thumb/1657\"/><img src=\"https://www.findthemissing.org/en/photos/thumb/26456\"/><img src=\"https://www.findthemissing.org/en/photos/thumb/1654\"/><img src=\"https://www.findthemissing.org/en/photos/thumb/1651\"/><img src=\"https://www.findthemissing.org/en/photos/thumb/1650\"/><img src=\"https://www.findthemissing.org/en/photos/thumb/1649\"/><img src=\"https://www.findthemissing.org/en/photos/thumb/1648\"/><img src=\"https://www.findthemissing.org/en/photos/thumb/1646\"/><img src=\"https://www.findthemissing.org/en/photos/thumb/16173\"/><img src=\"https://www.findthemissing.org/en/photos/thumb/37698\"/><img src=\"https://www.findthemissing.org/en/photos/thumb/25371\"/><img src=\"https://www.findthemissing.org/en/photos/thumb/16229\"/><img src=\"https://www.findthemissing.org/en/photos/thumb/37434\"/><img src=\"http://www.missingkids.com/photographs/NCMC898033c2t.jpg\"/><img src=\"\"/><img src=\"https://www.findthemissing.org/en/photos/thumb/25387\"/><img src=\"http://www.missingkids.com/photographs/NCMC766160c1t.jpg\"/><img src=\"https://www.findthemissing.org/en/photos/thumb/43235\"/><img src=\"\"/><img src=\"\"/><img src=\"http://www.missingkids.com/photographs/NCMC1228225c1t.jpg\"/><img src=\"http://www.missingkids.com/photographs/NCMC791470c1t.jpg\"/><img src=\"https://www.findthemissing.org/en/photos/thumb/16902\"/><img src=\"\"/><img src=\"\"/><img src=\"https://www.findthemissing.org/en/photos/thumb/14262\"/><img src=\"https://www.findthemissing.org/en/photos/thumb/14263\"/><img src=\"https://www.findthemissing.org/en/photos/thumb/17938\"/><img src=\"http://www.missingkids.com/photographs/NCMC1218665c1t.jpg\"/><img src=\"http://www.missingkids.com/photographs/NCMA1189606c1t.jpg\"/><img src=\"https://www.findthemissing.org/en/photos/thumb/14318\"/><img src=\"http://www.missingkids.com/photographs/NCMC1222548c1t.jpg\"/><img src=\"https://www.findthemissing.org/en/photos/thumb/17303\"/><img src=\"https://www.findthemissing.org/en/photos/thumb/17301\"/><img src=\"http://www.missingkids.com/photographs/NCMC601813c1t.jpg\"/><img src=\"https://www.findthemissing.org/en/photos/thumb/26643\"/><img src=\"https://www.findthemissing.org/en/photos/thumb/26644\"/><img src=\"https://www.findthemissing.org/en/photos/thumb/28734\"/><img src=\"https://www.findthemissing.org/en/photos/thumb/27266\"/><img src=\"http://www.missingkids.com/photographs/NCMC1218154c1t.jpg\"/><img src=\"https://www.findthemissing.org/en/photos/thumb/37789\"/><img src=\"https://www.findthemissing.org/en/photos/thumb/27229\"/><img src=\"https://www.findthemissing.org/en/photos/thumb/37027\"/><img src=\"http://www.missingkids.com/photographs/NCMC763225c1t.jpg\"/><img src=\"http://www.missingkids.com/photographs/NCMC898822c2t.jpg\"/>"
       ],
       "metadata": {},
       "output_type": "pyout",
       "prompt_number": 46,
       "text": [
        "<IPython.core.display.HTML at 0x57ee690>"
       ]
      }
     ],
     "prompt_number": 46
    },
    {
     "cell_type": "markdown",
     "metadata": {},
     "source": [
      "Now load all of the missing persons in California into a DataFrame and look at some statistics."
     ]
    },
    {
     "cell_type": "code",
     "collapsed": false,
     "input": [
      "df = DataFrame(persons)\n",
      "df.head()"
     ],
     "language": "python",
     "metadata": {},
     "outputs": [
      {
       "html": [
        "<div style=\"max-height:1000px;max-width:1500px;overflow:auto;\">\n",
        "<table border=\"1\" class=\"dataframe\">\n",
        "  <thead>\n",
        "    <tr style=\"text-align: right;\">\n",
        "      <th></th>\n",
        "      <th>age</th>\n",
        "      <th>aged_photo</th>\n",
        "      <th>agency_contact</th>\n",
        "      <th>agency_name</th>\n",
        "      <th>circumstance</th>\n",
        "      <th>city</th>\n",
        "      <th>country</th>\n",
        "      <th>county</th>\n",
        "      <th>date</th>\n",
        "      <th>eye_color</th>\n",
        "      <th>first_name</th>\n",
        "      <th>hair_color</th>\n",
        "      <th>height</th>\n",
        "      <th>last_name</th>\n",
        "      <th>middle_name</th>\n",
        "      <th>namus_number</th>\n",
        "      <th>ncmec_number</th>\n",
        "      <th>org</th>\n",
        "      <th>org_contact</th>\n",
        "      <th>org_name</th>\n",
        "      <th></th>\n",
        "    </tr>\n",
        "  </thead>\n",
        "  <tbody>\n",
        "    <tr>\n",
        "      <th>0</th>\n",
        "      <td> 30.0</td>\n",
        "      <td> </td>\n",
        "      <td>   213-996-1800</td>\n",
        "      <td>        Los Angeles Police Department (California)</td>\n",
        "      <td> Salvador Quintanilla was last seen June 6, 198...</td>\n",
        "      <td>       Los Angeles</td>\n",
        "      <td> US</td>\n",
        "      <td>       Los Angeles</td>\n",
        "      <td> 1981-06-06 00:00:00</td>\n",
        "      <td> Brown</td>\n",
        "      <td> Salvador</td>\n",
        "      <td> Black</td>\n",
        "      <td> 68.0</td>\n",
        "      <td> Quintanilla</td>\n",
        "      <td>      </td>\n",
        "      <td> 17802</td>\n",
        "      <td>        </td>\n",
        "      <td> NAMUS</td>\n",
        "      <td>                                    1-855-626-7600</td>\n",
        "      <td> National Missing and Unidentified Persons System</td>\n",
        "      <td>...</td>\n",
        "    </tr>\n",
        "    <tr>\n",
        "      <th>1</th>\n",
        "      <td> 45.0</td>\n",
        "      <td> </td>\n",
        "      <td>   323-890-5500</td>\n",
        "      <td> Los Angeles County Sheriffs Department (Califo...</td>\n",
        "      <td> Jon Wolfe Ramage was last seen February 19, 19...</td>\n",
        "      <td>    Canyon Country</td>\n",
        "      <td> US</td>\n",
        "      <td>       Los Angeles</td>\n",
        "      <td> 1983-02-19 14:00:00</td>\n",
        "      <td>  Blue</td>\n",
        "      <td>      Jon</td>\n",
        "      <td> Brown</td>\n",
        "      <td> 72.0</td>\n",
        "      <td>      Ramage</td>\n",
        "      <td> Wolfe</td>\n",
        "      <td> 17803</td>\n",
        "      <td>        </td>\n",
        "      <td> NAMUS</td>\n",
        "      <td>                                    1-855-626-7600</td>\n",
        "      <td> National Missing and Unidentified Persons System</td>\n",
        "      <td>...</td>\n",
        "    </tr>\n",
        "    <tr>\n",
        "      <th>2</th>\n",
        "      <td> 20.0</td>\n",
        "      <td> </td>\n",
        "      <td>   707-449-5272</td>\n",
        "      <td>          Vacaville Police Department (California)</td>\n",
        "      <td> MP-Campbell was last seen by his mother on 8/3...</td>\n",
        "      <td>         Vacaville</td>\n",
        "      <td> US</td>\n",
        "      <td>            Solano</td>\n",
        "      <td> 1991-08-30 00:00:00</td>\n",
        "      <td> Brown</td>\n",
        "      <td>  Charles</td>\n",
        "      <td> Black</td>\n",
        "      <td> 67.0</td>\n",
        "      <td>    Campbell</td>\n",
        "      <td> Aaron</td>\n",
        "      <td> 18588</td>\n",
        "      <td>        </td>\n",
        "      <td> NAMUS</td>\n",
        "      <td>                                    1-855-626-7600</td>\n",
        "      <td> National Missing and Unidentified Persons System</td>\n",
        "      <td>...</td>\n",
        "    </tr>\n",
        "    <tr>\n",
        "      <th>3</th>\n",
        "      <td> 25.0</td>\n",
        "      <td> </td>\n",
        "      <td> (925) 313-2651</td>\n",
        "      <td> Contra Costa County Sheriff's Department (Cali...</td>\n",
        "      <td> Last seen in the evening of July 16, 1977 in B...</td>\n",
        "      <td>         Brentwood</td>\n",
        "      <td> US</td>\n",
        "      <td>      Contra Costa</td>\n",
        "      <td> 1977-07-29 00:00:00</td>\n",
        "      <td> Brown</td>\n",
        "      <td>  Kenneth</td>\n",
        "      <td> Brown</td>\n",
        "      <td> 66.0</td>\n",
        "      <td>     Beltram</td>\n",
        "      <td>  John</td>\n",
        "      <td> 12859</td>\n",
        "      <td>        </td>\n",
        "      <td> NAMUS</td>\n",
        "      <td>                                    1-855-626-7600</td>\n",
        "      <td> National Missing and Unidentified Persons System</td>\n",
        "      <td>...</td>\n",
        "    </tr>\n",
        "    <tr>\n",
        "      <th>4</th>\n",
        "      <td> 29.0</td>\n",
        "      <td> </td>\n",
        "      <td>               </td>\n",
        "      <td> Nevada Office of the Attorney General, Investi...</td>\n",
        "      <td> Misty &amp; Amanda Cross were last seen at the hom...</td>\n",
        "      <td> Sacramento County</td>\n",
        "      <td> US</td>\n",
        "      <td> Sacramento County</td>\n",
        "      <td> 2000-08-19 00:00:00</td>\n",
        "      <td> Hazel</td>\n",
        "      <td>    Misty</td>\n",
        "      <td> Brown</td>\n",
        "      <td> 63.0</td>\n",
        "      <td>       Cross</td>\n",
        "      <td>  Lynn</td>\n",
        "      <td>      </td>\n",
        "      <td> 0012326</td>\n",
        "      <td>  USNV</td>\n",
        "      <td> (702) 486-3539 or\\n1-800-992-0900 (Nevada Resi...</td>\n",
        "      <td>            Nevada Office of the Attorney General</td>\n",
        "      <td>...</td>\n",
        "    </tr>\n",
        "  </tbody>\n",
        "</table>\n",
        "<p>5 rows \u00d7 25 columns</p>\n",
        "</div>"
       ],
       "metadata": {},
       "output_type": "pyout",
       "prompt_number": 47,
       "text": [
        "    age aged_photo  agency_contact  \\\n",
        "0  30.0               213-996-1800   \n",
        "1  45.0               323-890-5500   \n",
        "2  20.0               707-449-5272   \n",
        "3  25.0             (925) 313-2651   \n",
        "4  29.0                              \n",
        "\n",
        "                                         agency_name  \\\n",
        "0         Los Angeles Police Department (California)   \n",
        "1  Los Angeles County Sheriffs Department (Califo...   \n",
        "2           Vacaville Police Department (California)   \n",
        "3  Contra Costa County Sheriff's Department (Cali...   \n",
        "4  Nevada Office of the Attorney General, Investi...   \n",
        "\n",
        "                                        circumstance               city  \\\n",
        "0  Salvador Quintanilla was last seen June 6, 198...        Los Angeles   \n",
        "1  Jon Wolfe Ramage was last seen February 19, 19...     Canyon Country   \n",
        "2  MP-Campbell was last seen by his mother on 8/3...          Vacaville   \n",
        "3  Last seen in the evening of July 16, 1977 in B...          Brentwood   \n",
        "4  Misty & Amanda Cross were last seen at the hom...  Sacramento County   \n",
        "\n",
        "  country             county                 date eye_color first_name  \\\n",
        "0      US        Los Angeles  1981-06-06 00:00:00     Brown   Salvador   \n",
        "1      US        Los Angeles  1983-02-19 14:00:00      Blue        Jon   \n",
        "2      US             Solano  1991-08-30 00:00:00     Brown    Charles   \n",
        "3      US       Contra Costa  1977-07-29 00:00:00     Brown    Kenneth   \n",
        "4      US  Sacramento County  2000-08-19 00:00:00     Hazel      Misty   \n",
        "\n",
        "  hair_color height    last_name middle_name namus_number ncmec_number    org  \\\n",
        "0      Black   68.0  Quintanilla                    17802               NAMUS   \n",
        "1      Brown   72.0       Ramage       Wolfe        17803               NAMUS   \n",
        "2      Black   67.0     Campbell       Aaron        18588               NAMUS   \n",
        "3      Brown   66.0      Beltram        John        12859               NAMUS   \n",
        "4      Brown   63.0        Cross        Lynn                   0012326   USNV   \n",
        "\n",
        "                                         org_contact  \\\n",
        "0                                     1-855-626-7600   \n",
        "1                                     1-855-626-7600   \n",
        "2                                     1-855-626-7600   \n",
        "3                                     1-855-626-7600   \n",
        "4  (702) 486-3539 or\\n1-800-992-0900 (Nevada Resi...   \n",
        "\n",
        "                                           org_name      \n",
        "0  National Missing and Unidentified Persons System ...  \n",
        "1  National Missing and Unidentified Persons System ...  \n",
        "2  National Missing and Unidentified Persons System ...  \n",
        "3  National Missing and Unidentified Persons System ...  \n",
        "4             Nevada Office of the Attorney General ...  \n",
        "\n",
        "[5 rows x 25 columns]"
       ]
      }
     ],
     "prompt_number": 47
    },
    {
     "cell_type": "code",
     "collapsed": false,
     "input": [
      "df.describe()"
     ],
     "language": "python",
     "metadata": {},
     "outputs": [
      {
       "html": [
        "<div style=\"max-height:1000px;max-width:1500px;overflow:auto;\">\n",
        "<table border=\"1\" class=\"dataframe\">\n",
        "  <thead>\n",
        "    <tr style=\"text-align: right;\">\n",
        "      <th></th>\n",
        "      <th>age</th>\n",
        "      <th>aged_photo</th>\n",
        "      <th>agency_contact</th>\n",
        "      <th>agency_name</th>\n",
        "      <th>circumstance</th>\n",
        "      <th>city</th>\n",
        "      <th>country</th>\n",
        "      <th>county</th>\n",
        "      <th>date</th>\n",
        "      <th>eye_color</th>\n",
        "      <th>first_name</th>\n",
        "      <th>hair_color</th>\n",
        "      <th>height</th>\n",
        "      <th>last_name</th>\n",
        "      <th>middle_name</th>\n",
        "      <th>namus_number</th>\n",
        "      <th>ncmec_number</th>\n",
        "      <th>org</th>\n",
        "      <th>org_contact</th>\n",
        "      <th>org_name</th>\n",
        "      <th></th>\n",
        "    </tr>\n",
        "  </thead>\n",
        "  <tbody>\n",
        "    <tr>\n",
        "      <th>count</th>\n",
        "      <td> 1337</td>\n",
        "      <td> 1337</td>\n",
        "      <td>         1337</td>\n",
        "      <td>                                       1337</td>\n",
        "      <td> 1337</td>\n",
        "      <td>        1337</td>\n",
        "      <td> 1337</td>\n",
        "      <td>        1337</td>\n",
        "      <td>                1337</td>\n",
        "      <td>  1337</td>\n",
        "      <td> 1337</td>\n",
        "      <td>  1337</td>\n",
        "      <td> 1337</td>\n",
        "      <td>     1337</td>\n",
        "      <td> 1337</td>\n",
        "      <td> 1337</td>\n",
        "      <td> 1337</td>\n",
        "      <td>  1337</td>\n",
        "      <td>           1337</td>\n",
        "      <td>                                             1337</td>\n",
        "      <td>...</td>\n",
        "    </tr>\n",
        "    <tr>\n",
        "      <th>unique</th>\n",
        "      <td>   86</td>\n",
        "      <td>  168</td>\n",
        "      <td>          674</td>\n",
        "      <td>                                        524</td>\n",
        "      <td> 1266</td>\n",
        "      <td>         445</td>\n",
        "      <td>    1</td>\n",
        "      <td>          52</td>\n",
        "      <td>                1279</td>\n",
        "      <td>     8</td>\n",
        "      <td>  760</td>\n",
        "      <td>     8</td>\n",
        "      <td>   63</td>\n",
        "      <td>     1073</td>\n",
        "      <td>  568</td>\n",
        "      <td> 1204</td>\n",
        "      <td>  357</td>\n",
        "      <td>     5</td>\n",
        "      <td>              5</td>\n",
        "      <td>                                                5</td>\n",
        "      <td>...</td>\n",
        "    </tr>\n",
        "    <tr>\n",
        "      <th>top</th>\n",
        "      <td> 17.0</td>\n",
        "      <td>     </td>\n",
        "      <td> 323-890-5500</td>\n",
        "      <td> Los Angeles Police Department (California)</td>\n",
        "      <td>     </td>\n",
        "      <td> Los Angeles</td>\n",
        "      <td>   US</td>\n",
        "      <td> Los Angeles</td>\n",
        "      <td> 1988-08-04 00:00:00</td>\n",
        "      <td> Brown</td>\n",
        "      <td> John</td>\n",
        "      <td> Brown</td>\n",
        "      <td> 67.0</td>\n",
        "      <td> Martinez</td>\n",
        "      <td>     </td>\n",
        "      <td>     </td>\n",
        "      <td>     </td>\n",
        "      <td> NAMUS</td>\n",
        "      <td> 1-855-626-7600</td>\n",
        "      <td> National Missing and Unidentified Persons System</td>\n",
        "      <td>...</td>\n",
        "    </tr>\n",
        "    <tr>\n",
        "      <th>freq</th>\n",
        "      <td>   65</td>\n",
        "      <td> 1170</td>\n",
        "      <td>           76</td>\n",
        "      <td>                                        100</td>\n",
        "      <td>   63</td>\n",
        "      <td>         120</td>\n",
        "      <td> 1337</td>\n",
        "      <td>         359</td>\n",
        "      <td>                   4</td>\n",
        "      <td>   766</td>\n",
        "      <td>   28</td>\n",
        "      <td>   681</td>\n",
        "      <td>   97</td>\n",
        "      <td>       11</td>\n",
        "      <td>  329</td>\n",
        "      <td>  134</td>\n",
        "      <td>  981</td>\n",
        "      <td>   981</td>\n",
        "      <td>            981</td>\n",
        "      <td>                                              981</td>\n",
        "      <td>...</td>\n",
        "    </tr>\n",
        "  </tbody>\n",
        "</table>\n",
        "<p>4 rows \u00d7 25 columns</p>\n",
        "</div>"
       ],
       "metadata": {},
       "output_type": "pyout",
       "prompt_number": 48,
       "text": [
        "         age aged_photo agency_contact  \\\n",
        "count   1337       1337           1337   \n",
        "unique    86        168            674   \n",
        "top     17.0              323-890-5500   \n",
        "freq      65       1170             76   \n",
        "\n",
        "                                       agency_name circumstance         city  \\\n",
        "count                                         1337         1337         1337   \n",
        "unique                                         524         1266          445   \n",
        "top     Los Angeles Police Department (California)               Los Angeles   \n",
        "freq                                           100           63          120   \n",
        "\n",
        "       country       county                 date eye_color first_name  \\\n",
        "count     1337         1337                 1337      1337       1337   \n",
        "unique       1           52                 1279         8        760   \n",
        "top         US  Los Angeles  1988-08-04 00:00:00     Brown       John   \n",
        "freq      1337          359                    4       766         28   \n",
        "\n",
        "       hair_color height last_name middle_name namus_number ncmec_number  \\\n",
        "count        1337   1337      1337        1337         1337         1337   \n",
        "unique          8     63      1073         568         1204          357   \n",
        "top         Brown   67.0  Martinez                                         \n",
        "freq          681     97        11         329          134          981   \n",
        "\n",
        "          org     org_contact  \\\n",
        "count    1337            1337   \n",
        "unique      5               5   \n",
        "top     NAMUS  1-855-626-7600   \n",
        "freq      981             981   \n",
        "\n",
        "                                                org_name      \n",
        "count                                               1337 ...  \n",
        "unique                                                 5 ...  \n",
        "top     National Missing and Unidentified Persons System ...  \n",
        "freq                                                 981 ...  \n",
        "\n",
        "[4 rows x 25 columns]"
       ]
      }
     ],
     "prompt_number": 48
    },
    {
     "cell_type": "markdown",
     "metadata": {},
     "source": [
      "Which cities in California have the most missing persons?"
     ]
    },
    {
     "cell_type": "code",
     "collapsed": false,
     "input": [
      "cities = Series(df['city'])\n",
      "cities = cities.value_counts(sort=True).head(n=10)\n",
      "cities.plot(grid=True, kind='barh', color=\"#FDD017\")"
     ],
     "language": "python",
     "metadata": {},
     "outputs": [
      {
       "metadata": {},
       "output_type": "pyout",
       "prompt_number": 49,
       "text": [
        "<matplotlib.axes.AxesSubplot at 0x6776c50>"
       ]
      },
      {
       "metadata": {},
       "output_type": "display_data",
       "png": "[encoded data removed]",
       "text": [
        "<matplotlib.figure.Figure at 0x6776410>"
       ]
      }
     ],
     "prompt_number": 49
    },
    {
     "cell_type": "markdown",
     "metadata": {},
     "source": [
      "Which counties in California have the most missing persons?"
     ]
    },
    {
     "cell_type": "code",
     "collapsed": false,
     "input": [
      "counties = Series(df['county'])\n",
      "counties = counties.value_counts(sort=True, ascending=False).head(n=10)\n",
      "counties.plot(grid=True, kind='barh', color='#F70D1A')"
     ],
     "language": "python",
     "metadata": {},
     "outputs": [
      {
       "metadata": {},
       "output_type": "pyout",
       "prompt_number": 50,
       "text": [
        "<matplotlib.axes.AxesSubplot at 0x6789750>"
       ]
      },
      {
       "metadata": {},
       "output_type": "display_data",
       "png": "[encoded data removed]",
       "text": [
        "<matplotlib.figure.Figure at 0x67a33d0>"
       ]
      }
     ],
     "prompt_number": 50
    },
    {
     "cell_type": "code",
     "collapsed": false,
     "input": [
      "sexes = Series(df['sex']).value_counts(sort=True)\n",
      "print sexes\n",
      "plt.pie(sexes, labels=sexes.index.values, colors=['#BDEDFF','#FFDFDD', 'black'], autopct='%i%%')"
     ],
     "language": "python",
     "metadata": {},
     "outputs": [
      {
       "output_type": "stream",
       "stream": "stdout",
       "text": [
        "Male      773\n",
        "Female    564\n",
        "dtype: int64\n"
       ]
      },
      {
       "metadata": {},
       "output_type": "pyout",
       "prompt_number": 51,
       "text": [
        "([<matplotlib.patches.Wedge at 0x610a890>,\n",
        "  <matplotlib.patches.Wedge at 0x610af10>],\n",
        " [<matplotlib.text.Text at 0x610ad50>, <matplotlib.text.Text at 0x610e3d0>],\n",
        " [<matplotlib.text.Text at 0x610ae50>, <matplotlib.text.Text at 0x610e310>])"
       ]
      },
      {
       "metadata": {},
       "output_type": "display_data",
       "png": "[encoded data removed]",
       "text": [
        "<matplotlib.figure.Figure at 0x55e5050>"
       ]
      }
     ],
     "prompt_number": 51
    },
    {
     "cell_type": "markdown",
     "metadata": {},
     "source": [
      "What is the average age of a missing person?"
     ]
    },
    {
     "cell_type": "code",
     "collapsed": false,
     "input": [
      "Series(df['age']).apply(float).mean()"
     ],
     "language": "python",
     "metadata": {},
     "outputs": [
      {
       "metadata": {},
       "output_type": "pyout",
       "prompt_number": 52,
       "text": [
        "31.30291697830965"
       ]
      }
     ],
     "prompt_number": 52
    }
   ],
   "metadata": {}
  }
 ]
}